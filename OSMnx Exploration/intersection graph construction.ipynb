{
 "cells": [
  {
   "cell_type": "markdown",
   "metadata": {},
   "source": [
    "# Intersection Graph Construction\n",
    "To properly simulate bicyclist behavior, we need a graph that represents how a bicyclist can travel around a city. Idealy we will create a graph that models the interactions between road segemnts and intersections.\n",
    "\n",
    "Intersections:\n",
    "* A \"fully connected\" intersection must allow byclicts to leave any direction that they are physically and legally allowed to.\n",
    " * Can not enter a one way street if going the wrong direction\n",
    " * Can't do a left turn if there exists a no left turn sign\n",
    "\n",
    "Segments:\n",
    "* After transforming intersections into new nodes, segments should preserve the original connectivity between those original nodes with newly created edges for the new nodes."
   ]
  },
  {
   "cell_type": "markdown",
   "metadata": {},
   "source": [
    "# Strategy\n",
    "The approach I am attempting to create this graph uses the following steps:\n",
    "\n",
    "Connectivity 1 -> Geometry -> Connectivity 2 -> Data\n",
    "\n",
    "Connectivity 1:\n",
    "* Use the in_out_dict of all the nodes and their edges to create a new set of nodes that represents the original segments and newly defined intersections.\n",
    "\n",
    "Geometry:\n",
    "* Use the geometry of the original nodes to determine good locations for the newly created nodes.\n",
    "\n",
    "Connectivity 2:\n",
    "* Use the geometry to determine left turns and fill in the missing bicyclist two part left turn\n",
    "\n",
    "Data:\n",
    "* Use data to remove any traffic defined impediments (such as a not left turn sign)"
   ]
  },
  {
   "cell_type": "markdown",
   "metadata": {},
   "source": [
    "## Imports & setup"
   ]
  },
  {
   "cell_type": "code",
   "execution_count": 1,
   "metadata": {},
   "outputs": [],
   "source": [
    "import osmnx as ox"
   ]
  },
  {
   "cell_type": "markdown",
   "metadata": {},
   "source": [
    "We use a sample bounding box centered below Washington DC. This particular section of Arlington is not particularly interesting but it should let us experiment with initial graph construction."
   ]
  },
  {
   "cell_type": "code",
   "execution_count": 2,
   "metadata": {},
   "outputs": [],
   "source": [
    "bbox_east, bbox_north, bbox_south, bbox_west = -77.032086, 38.934280, 38.827447, -77.172320\n",
    "\n",
    "n = 120\n",
    "\n",
    "ew_dist = bbox_east - bbox_west\n",
    "ew_avg = (bbox_east + bbox_west)/2\n",
    "bbox_east = ew_avg + ew_dist/n\n",
    "bbox_west = ew_avg - ew_dist/n\n",
    "\n",
    "ns_dist = bbox_north - bbox_south\n",
    "ns_avg = (bbox_north + bbox_south)/2\n",
    "bbox_north = ns_avg + ns_dist/n\n",
    "bbox_south = ns_avg - ns_dist/n"
   ]
  },
  {
   "cell_type": "code",
   "execution_count": 3,
   "metadata": {},
   "outputs": [],
   "source": [
    "bbox_graph = ox.graph_from_bbox(bbox_north, bbox_south, bbox_east, bbox_west)"
   ]
  },
  {
   "cell_type": "code",
   "execution_count": 4,
   "metadata": {},
   "outputs": [
    {
     "data": {
      "image/png": "[encoded data removed]",
      "text/plain": [
       "<Figure size 619.923x720 with 1 Axes>"
      ]
     },
     "metadata": {},
     "output_type": "display_data"
    },
    {
     "data": {
      "text/plain": [
       "(<Figure size 619.923x720 with 1 Axes>,\n",
       " <matplotlib.axes._subplots.AxesSubplot at 0x7f445b1f1320>)"
      ]
     },
     "execution_count": 4,
     "metadata": {},
     "output_type": "execute_result"
    }
   ],
   "source": [
    "ox.plot_graph(bbox_graph, fig_height=10)"
   ]
  },
  {
   "cell_type": "markdown",
   "metadata": {},
   "source": [
    "## In_out dictionary\n",
    "\n",
    "The in_out dictionary is an intermediate representation of our graph for to allow easier computing of the desired graph. For every node, we simply list what nodes travel **in** to that node, and what nodes you can get to by traveling **out** of that node"
   ]
  },
  {
   "cell_type": "code",
   "execution_count": 5,
   "metadata": {},
   "outputs": [],
   "source": [
    "from collections import defaultdict"
   ]
  },
  {
   "cell_type": "code",
   "execution_count": 6,
   "metadata": {},
   "outputs": [],
   "source": [
    "def make_dict():\n",
    "    return {'in':[],'out':[]}"
   ]
  },
  {
   "cell_type": "code",
   "execution_count": 7,
   "metadata": {},
   "outputs": [
    {
     "data": {
      "text/plain": [
       "defaultdict(<function __main__.make_dict()>,\n",
       "            {63334966: {'in': [5441299616, 5441299617, 5441299823],\n",
       "              'out': [5441299616, 5441299823, 5441299617]},\n",
       "             5441299616: {'in': [63334966], 'out': [63334966]},\n",
       "             5441299617: {'in': [63334966], 'out': [63334966]},\n",
       "             5600335194: {'in': [5441299822, 5662408421],\n",
       "              'out': [5441299822, 5662408421]},\n",
       "             5441299822: {'in': [5441299823, 63334543, 5600335194],\n",
       "              'out': [5600335194, 63334543, 5441299823]},\n",
       "             63334543: {'in': [5441299822, 63327691],\n",
       "              'out': [5441299822, 63327691]},\n",
       "             5441299823: {'in': [5441299822, 5441299824, 5441299828, 63334966],\n",
       "              'out': [5441299822, 63334966, 5441299824, 5441299828]},\n",
       "             5441299824: {'in': [5441299823], 'out': [5441299823]},\n",
       "             5441299828: {'in': [5441299823, 63327691],\n",
       "              'out': [63327691, 5441299823]},\n",
       "             63327691: {'in': [5441299828, 63334543],\n",
       "              'out': [5441299828, 63334543]},\n",
       "             5662408421: {'in': [2219272722, 5600335178, 5600335194],\n",
       "              'out': [2219272722, 5600335178, 5600335194]},\n",
       "             2219272722: {'in': [5662408421], 'out': [5662408421]},\n",
       "             5600335178: {'in': [5662408421], 'out': [5662408421]}})"
      ]
     },
     "execution_count": 7,
     "metadata": {},
     "output_type": "execute_result"
    }
   ],
   "source": [
    "in_out = defaultdict(make_dict)\n",
    "for start, end in bbox_graph.edges():\n",
    "    in_out[end]['in'].append(start)\n",
    "    in_out[start]['out'].append(end)\n",
    "in_out"
   ]
  },
  {
   "cell_type": "markdown",
   "metadata": {},
   "source": [
    "## Connectivity 1"
   ]
  },
  {
   "cell_type": "markdown",
   "metadata": {},
   "source": [
    "### Segments"
   ]
  },
  {
   "cell_type": "code",
   "execution_count": 40,
   "metadata": {},
   "outputs": [],
   "source": [
    "segments = set()\n",
    "nodes = set()\n",
    "for k, v in in_out.items():\n",
    "    for node in v['in']:\n",
    "        n1 = (node, k, 'out')\n",
    "        n2 = (k, node, 'in')\n",
    "        nodes.add(n1)\n",
    "        nodes.add(n2)\n",
    "        segments.add((n1, n2))"
   ]
  },
  {
   "cell_type": "markdown",
   "metadata": {},
   "source": [
    "### Intersections"
   ]
  },
  {
   "cell_type": "code",
   "execution_count": 42,
   "metadata": {},
   "outputs": [],
   "source": [
    "intersections = set()\n",
    "nodes = set()\n",
    "for k, v in in_out.items():\n",
    "    # every in connects to every out - unless same node\n",
    "    for n_in in v['in']:\n",
    "        n1 = (k, n_in, 'in')\n",
    "        for n_out in v['out']:\n",
    "            n2 = (k, n_out, 'out')\n",
    "            \n",
    "            intersections.add(n1)\n",
    "            intersections.add(n2)\n",
    "            \n",
    "            if n_in != n_out:\n",
    "                intersections.add((n1, n2))"
   ]
  },
  {
   "cell_type": "code",
   "execution_count": 43,
   "metadata": {},
   "outputs": [
    {
     "data": {
      "text/plain": [
       "{((5441299822, 5441299823, 'in'), (5441299822, 5600335194, 'out')),\n",
       " ((5441299822, 5441299823, 'in'), (5441299822, 63334543, 'out')),\n",
       " ((5441299822, 5600335194, 'in'), (5441299822, 5441299823, 'out')),\n",
       " ((5441299822, 5600335194, 'in'), (5441299822, 63334543, 'out')),\n",
       " ((5441299822, 63334543, 'in'), (5441299822, 5441299823, 'out')),\n",
       " ((5441299822, 63334543, 'in'), (5441299822, 5600335194, 'out')),\n",
       " ((5441299823, 5441299822, 'in'), (5441299823, 5441299824, 'out')),\n",
       " ((5441299823, 5441299822, 'in'), (5441299823, 5441299828, 'out')),\n",
       " ((5441299823, 5441299822, 'in'), (5441299823, 63334966, 'out')),\n",
       " ((5441299823, 5441299824, 'in'), (5441299823, 5441299822, 'out')),\n",
       " ((5441299823, 5441299824, 'in'), (5441299823, 5441299828, 'out')),\n",
       " ((5441299823, 5441299824, 'in'), (5441299823, 63334966, 'out')),\n",
       " ((5441299823, 5441299828, 'in'), (5441299823, 5441299822, 'out')),\n",
       " ((5441299823, 5441299828, 'in'), (5441299823, 5441299824, 'out')),\n",
       " ((5441299823, 5441299828, 'in'), (5441299823, 63334966, 'out')),\n",
       " ((5441299823, 63334966, 'in'), (5441299823, 5441299822, 'out')),\n",
       " ((5441299823, 63334966, 'in'), (5441299823, 5441299824, 'out')),\n",
       " ((5441299823, 63334966, 'in'), (5441299823, 5441299828, 'out')),\n",
       " ((5441299828, 5441299823, 'in'), (5441299828, 63327691, 'out')),\n",
       " ((5441299828, 63327691, 'in'), (5441299828, 5441299823, 'out')),\n",
       " ((5600335194, 5441299822, 'in'), (5600335194, 5662408421, 'out')),\n",
       " ((5600335194, 5662408421, 'in'), (5600335194, 5441299822, 'out')),\n",
       " ((5662408421, 2219272722, 'in'), (5662408421, 5600335178, 'out')),\n",
       " ((5662408421, 2219272722, 'in'), (5662408421, 5600335194, 'out')),\n",
       " ((5662408421, 5600335178, 'in'), (5662408421, 2219272722, 'out')),\n",
       " ((5662408421, 5600335178, 'in'), (5662408421, 5600335194, 'out')),\n",
       " ((5662408421, 5600335194, 'in'), (5662408421, 2219272722, 'out')),\n",
       " ((5662408421, 5600335194, 'in'), (5662408421, 5600335178, 'out')),\n",
       " ((63327691, 5441299828, 'in'), (63327691, 63334543, 'out')),\n",
       " ((63327691, 63334543, 'in'), (63327691, 5441299828, 'out')),\n",
       " ((63334543, 5441299822, 'in'), (63334543, 63327691, 'out')),\n",
       " ((63334543, 63327691, 'in'), (63334543, 5441299822, 'out')),\n",
       " ((63334966, 5441299616, 'in'), (63334966, 5441299617, 'out')),\n",
       " ((63334966, 5441299616, 'in'), (63334966, 5441299823, 'out')),\n",
       " ((63334966, 5441299617, 'in'), (63334966, 5441299616, 'out')),\n",
       " ((63334966, 5441299617, 'in'), (63334966, 5441299823, 'out')),\n",
       " ((63334966, 5441299823, 'in'), (63334966, 5441299616, 'out')),\n",
       " ((63334966, 5441299823, 'in'), (63334966, 5441299617, 'out')),\n",
       " (2219272722, 5662408421, 'in'),\n",
       " (2219272722, 5662408421, 'out'),\n",
       " (5441299616, 63334966, 'in'),\n",
       " (5441299616, 63334966, 'out'),\n",
       " (5441299617, 63334966, 'in'),\n",
       " (5441299617, 63334966, 'out'),\n",
       " (5441299822, 5441299823, 'in'),\n",
       " (5441299822, 5441299823, 'out'),\n",
       " (5441299822, 5600335194, 'in'),\n",
       " (5441299822, 5600335194, 'out'),\n",
       " (5441299822, 63334543, 'in'),\n",
       " (5441299822, 63334543, 'out'),\n",
       " (5441299823, 5441299822, 'in'),\n",
       " (5441299823, 5441299822, 'out'),\n",
       " (5441299823, 5441299824, 'in'),\n",
       " (5441299823, 5441299824, 'out'),\n",
       " (5441299823, 5441299828, 'in'),\n",
       " (5441299823, 5441299828, 'out'),\n",
       " (5441299823, 63334966, 'in'),\n",
       " (5441299823, 63334966, 'out'),\n",
       " (5441299824, 5441299823, 'in'),\n",
       " (5441299824, 5441299823, 'out'),\n",
       " (5441299828, 5441299823, 'in'),\n",
       " (5441299828, 5441299823, 'out'),\n",
       " (5441299828, 63327691, 'in'),\n",
       " (5441299828, 63327691, 'out'),\n",
       " (5600335178, 5662408421, 'in'),\n",
       " (5600335178, 5662408421, 'out'),\n",
       " (5600335194, 5441299822, 'in'),\n",
       " (5600335194, 5441299822, 'out'),\n",
       " (5600335194, 5662408421, 'in'),\n",
       " (5600335194, 5662408421, 'out'),\n",
       " (5662408421, 2219272722, 'in'),\n",
       " (5662408421, 2219272722, 'out'),\n",
       " (5662408421, 5600335178, 'in'),\n",
       " (5662408421, 5600335178, 'out'),\n",
       " (5662408421, 5600335194, 'in'),\n",
       " (5662408421, 5600335194, 'out'),\n",
       " (63327691, 5441299828, 'in'),\n",
       " (63327691, 5441299828, 'out'),\n",
       " (63327691, 63334543, 'in'),\n",
       " (63327691, 63334543, 'out'),\n",
       " (63334543, 5441299822, 'in'),\n",
       " (63334543, 5441299822, 'out'),\n",
       " (63334543, 63327691, 'in'),\n",
       " (63334543, 63327691, 'out'),\n",
       " (63334966, 5441299616, 'in'),\n",
       " (63334966, 5441299616, 'out'),\n",
       " (63334966, 5441299617, 'in'),\n",
       " (63334966, 5441299617, 'out'),\n",
       " (63334966, 5441299823, 'in'),\n",
       " (63334966, 5441299823, 'out')}"
      ]
     },
     "execution_count": 43,
     "metadata": {},
     "output_type": "execute_result"
    }
   ],
   "source": [
    "intersections"
   ]
  },
  {
   "cell_type": "code",
   "execution_count": null,
   "metadata": {},
   "outputs": [],
   "source": []
  }
 ],
 "metadata": {
  "kernelspec": {
   "display_name": "Python [conda env:gis]",
   "language": "python",
   "name": "conda-env-gis-py"
  },
  "language_info": {
   "codemirror_mode": {
    "name": "ipython",
    "version": 3
   },
   "file_extension": ".py",
   "mimetype": "text/x-python",
   "name": "python",
   "nbconvert_exporter": "python",
   "pygments_lexer": "ipython3",
   "version": "3.6.6"
  }
 },
 "nbformat": 4,
 "nbformat_minor": 2
}
