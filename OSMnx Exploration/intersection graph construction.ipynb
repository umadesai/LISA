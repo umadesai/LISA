{
 "cells": [
  {
   "cell_type": "markdown",
   "metadata": {},
   "source": [
    "# Intersection Graph Construction\n",
    "To properly simulate bicyclist behavior, we need a graph that represents how a bicyclist can travel around a city. Idealy we will create a graph that models the interactions between road segemnts and intersections.\n",
    "\n",
    "Intersections:\n",
    "* A \"fully connected\" intersection must allow byclicts to leave any direction that they are physically and legally allowed to.\n",
    " * Can not enter a one way street if going the wrong direction\n",
    " * Can't do a left turn if there exists a no left turn sign\n",
    "\n",
    "Segments:\n",
    "* After transforming intersections into new nodes, segments should preserve the original connectivity between those original nodes with newly created edges for the new nodes."
   ]
  },
  {
   "cell_type": "markdown",
   "metadata": {},
   "source": [
    "# Strategy\n",
    "\n",
    "### Connectivity 1 -> Geometry -> Connectivity 2 -> Data -> Data 2\n",
    "\n",
    "Connectivity 1:\n",
    "* Use the in_out_dict of all the nodes and their edges to create a new set of nodes that represents the original segments and newly defined intersections. This step creates all the nodes that will ever be needed, but the edges will be updated with bicyclist behavior and traffic signaling.\n",
    "\n",
    "Geometry:\n",
    "* Use the geometry of the original nodes to determine good locations for the newly created nodes.\n",
    "\n",
    "Connectivity 2:\n",
    "* Use the geometry to determine left turns and fill in the missing bicyclist two part left turn\n",
    "\n",
    "Data:\n",
    "* Use data to remove any traffic defined impediments (such as a not left turn sign)\n",
    "\n",
    "Data 2:\n",
    "* Integrate external data sources into graph"
   ]
  },
  {
   "cell_type": "markdown",
   "metadata": {},
   "source": [
    "## Imports & setup"
   ]
  },
  {
   "cell_type": "code",
   "execution_count": 1,
   "metadata": {},
   "outputs": [],
   "source": [
    "import osmnx as ox"
   ]
  },
  {
   "cell_type": "code",
   "execution_count": 94,
   "metadata": {},
   "outputs": [],
   "source": [
    "import numpy as np"
   ]
  },
  {
   "cell_type": "code",
   "execution_count": 5,
   "metadata": {},
   "outputs": [],
   "source": [
    "from collections import defaultdict"
   ]
  },
  {
   "cell_type": "markdown",
   "metadata": {},
   "source": [
    "We use a sample bounding box centered below Washington DC. This particular section of Arlington is not particularly interesting but it should let us experiment with initial graph construction."
   ]
  },
  {
   "cell_type": "code",
   "execution_count": 2,
   "metadata": {},
   "outputs": [],
   "source": [
    "bbox_east, bbox_north, bbox_south, bbox_west = -77.032086, 38.934280, 38.827447, -77.172320\n",
    "\n",
    "n = 120\n",
    "\n",
    "ew_dist = bbox_east - bbox_west\n",
    "ew_avg = (bbox_east + bbox_west)/2\n",
    "bbox_east = ew_avg + ew_dist/n\n",
    "bbox_west = ew_avg - ew_dist/n\n",
    "\n",
    "ns_dist = bbox_north - bbox_south\n",
    "ns_avg = (bbox_north + bbox_south)/2\n",
    "bbox_north = ns_avg + ns_dist/n\n",
    "bbox_south = ns_avg - ns_dist/n"
   ]
  },
  {
   "cell_type": "code",
   "execution_count": 3,
   "metadata": {},
   "outputs": [],
   "source": [
    "bbox_graph = ox.graph_from_bbox(bbox_north, bbox_south, bbox_east, bbox_west)"
   ]
  },
  {
   "cell_type": "code",
   "execution_count": 4,
   "metadata": {},
   "outputs": [
    {
     "data": {
      "image/png": "[encoded data removed]",
      "text/plain": [
       "<Figure size 619.923x720 with 1 Axes>"
      ]
     },
     "metadata": {},
     "output_type": "display_data"
    },
    {
     "data": {
      "text/plain": [
       "(<Figure size 619.923x720 with 1 Axes>,\n",
       " <matplotlib.axes._subplots.AxesSubplot at 0x7fa793d1b7f0>)"
      ]
     },
     "execution_count": 4,
     "metadata": {},
     "output_type": "execute_result"
    }
   ],
   "source": [
    "ox.plot_graph(bbox_graph, fig_height=10)"
   ]
  },
  {
   "cell_type": "markdown",
   "metadata": {},
   "source": [
    "## In_out dictionary\n",
    "\n",
    "The in_out dictionary is an intermediate representation of our graph for to allow easier computing of the desired graph. For every node, we simply list what nodes travel **in** to that node, and what nodes you can get to by traveling **out** of that node"
   ]
  },
  {
   "cell_type": "code",
   "execution_count": 6,
   "metadata": {},
   "outputs": [],
   "source": [
    "def make_dict():\n",
    "    return {'in':[],'out':[]}"
   ]
  },
  {
   "cell_type": "code",
   "execution_count": 7,
   "metadata": {},
   "outputs": [
    {
     "data": {
      "text/plain": [
       "defaultdict(<function __main__.make_dict()>,\n",
       "            {63334966: {'in': [5441299616, 5441299617, 5441299823],\n",
       "              'out': [5441299616, 5441299823, 5441299617]},\n",
       "             5441299616: {'in': [63334966], 'out': [63334966]},\n",
       "             5441299617: {'in': [63334966], 'out': [63334966]},\n",
       "             5600335194: {'in': [5441299822, 5662408421],\n",
       "              'out': [5441299822, 5662408421]},\n",
       "             5441299822: {'in': [5441299823, 63334543, 5600335194],\n",
       "              'out': [5600335194, 63334543, 5441299823]},\n",
       "             63334543: {'in': [5441299822, 63327691],\n",
       "              'out': [5441299822, 63327691]},\n",
       "             5441299823: {'in': [5441299822, 5441299824, 5441299828, 63334966],\n",
       "              'out': [5441299822, 63334966, 5441299824, 5441299828]},\n",
       "             5441299824: {'in': [5441299823], 'out': [5441299823]},\n",
       "             5441299828: {'in': [5441299823, 63327691],\n",
       "              'out': [63327691, 5441299823]},\n",
       "             63327691: {'in': [5441299828, 63334543],\n",
       "              'out': [5441299828, 63334543]},\n",
       "             5662408421: {'in': [2219272722, 5600335178, 5600335194],\n",
       "              'out': [2219272722, 5600335178, 5600335194]},\n",
       "             2219272722: {'in': [5662408421], 'out': [5662408421]},\n",
       "             5600335178: {'in': [5662408421], 'out': [5662408421]}})"
      ]
     },
     "execution_count": 7,
     "metadata": {},
     "output_type": "execute_result"
    }
   ],
   "source": [
    "in_out = defaultdict(make_dict)\n",
    "for start, end in bbox_graph.edges():\n",
    "    in_out[end]['in'].append(start)\n",
    "    in_out[start]['out'].append(end)\n",
    "in_out"
   ]
  },
  {
   "cell_type": "markdown",
   "metadata": {},
   "source": [
    "## Connectivity 1\n",
    "\n",
    "Construct the initial graph from the given OSMnx data."
   ]
  },
  {
   "cell_type": "code",
   "execution_count": 8,
   "metadata": {},
   "outputs": [],
   "source": [
    "nodes = set()"
   ]
  },
  {
   "cell_type": "markdown",
   "metadata": {},
   "source": [
    "### Segments"
   ]
  },
  {
   "cell_type": "code",
   "execution_count": 9,
   "metadata": {},
   "outputs": [
    {
     "data": {
      "text/plain": [
       "26"
      ]
     },
     "execution_count": 9,
     "metadata": {},
     "output_type": "execute_result"
    }
   ],
   "source": [
    "segments = set()\n",
    "for k, v in in_out.items():\n",
    "    for node in v['in']:\n",
    "        n1 = (node, k, 'out')\n",
    "        n2 = (k, node, 'in')\n",
    "        nodes.add(n1)\n",
    "        nodes.add(n2)\n",
    "        segments.add((n1, n2))\n",
    "len(segments)"
   ]
  },
  {
   "cell_type": "markdown",
   "metadata": {},
   "source": [
    "### Intersections"
   ]
  },
  {
   "cell_type": "code",
   "execution_count": 10,
   "metadata": {},
   "outputs": [
    {
     "data": {
      "text/plain": [
       "38"
      ]
     },
     "execution_count": 10,
     "metadata": {},
     "output_type": "execute_result"
    }
   ],
   "source": [
    "intersections = set()\n",
    "for k, v in in_out.items():\n",
    "    # every in connects to every out - unless same node\n",
    "    for n_in in v['in']:\n",
    "        n1 = (k, n_in, 'in')\n",
    "        for n_out in v['out']:\n",
    "            n2 = (k, n_out, 'out')\n",
    "            \n",
    "            nodes.add(n1)\n",
    "            nodes.add(n2)\n",
    "            \n",
    "            if n_in != n_out:\n",
    "                intersections.add((n1, n2))\n",
    "len(intersections)"
   ]
  },
  {
   "cell_type": "code",
   "execution_count": 11,
   "metadata": {},
   "outputs": [
    {
     "data": {
      "text/plain": [
       "64"
      ]
     },
     "execution_count": 11,
     "metadata": {},
     "output_type": "execute_result"
    }
   ],
   "source": [
    "edges = set.union(segments, intersections)\n",
    "len(edges)"
   ]
  },
  {
   "cell_type": "markdown",
   "metadata": {},
   "source": [
    "## Geometry\n",
    "\n",
    "1st pass: Give each node in the graph a somewhat decent (x,y) position.\n",
    "\n",
    "2nd pass: Construct proper shapely curves for the edges."
   ]
  },
  {
   "cell_type": "code",
   "execution_count": 12,
   "metadata": {},
   "outputs": [
    {
     "data": {
      "text/plain": [
       "{'y': 38.8816352, 'x': -77.102142, 'osmid': 2219272722}"
      ]
     },
     "execution_count": 12,
     "metadata": {},
     "output_type": "execute_result"
    }
   ],
   "source": [
    "bbox_graph.nodes()[2219272722]"
   ]
  },
  {
   "cell_type": "markdown",
   "metadata": {},
   "source": [
    "make a lookup of the (x,y) for each node mostly for ease of use"
   ]
  },
  {
   "cell_type": "code",
   "execution_count": 13,
   "metadata": {},
   "outputs": [],
   "source": [
    "nodes_xy = {}\n",
    "for node in nodes:\n",
    "    xy = bbox_graph.nodes()[node[0]]\n",
    "    x = xy['x']\n",
    "    y = xy['y']\n",
    "    nodes_xy[node] = {'x': x, 'y': y}"
   ]
  },
  {
   "cell_type": "code",
   "execution_count": 73,
   "metadata": {},
   "outputs": [],
   "source": [
    "def complement_dir(s: str):\n",
    "    \"\"\"\n",
    "    TODO: Switch to True and False so I don't have to write this function\n",
    "    \"\"\"\n",
    "    if s == 'in':\n",
    "        return 'out'\n",
    "    elif s == 'out':\n",
    "        return 'in'\n",
    "    else:\n",
    "        print(\"complement_dir failed\")"
   ]
  },
  {
   "cell_type": "code",
   "execution_count": 90,
   "metadata": {},
   "outputs": [],
   "source": [
    "def complement_segment(segment):\n",
    "    \"\"\"\n",
    "    Computes the complementary segment of the given segment. The\n",
    "    complementary segement represents the other direction in a two\n",
    "    way street.\n",
    "    \"\"\"\n",
    "    n0 = segment[0]\n",
    "    n1 = segment[1]\n",
    "\n",
    "    n3 = (n0[0], n0[1], complement_dir(n0[2]))\n",
    "    n2 = (n1[0], n1[1], complement_dir(n1[2]))\n",
    "    \n",
    "    return (n2, n3)"
   ]
  },
  {
   "cell_type": "code",
   "execution_count": 101,
   "metadata": {},
   "outputs": [],
   "source": [
    "def xy_vec(n1, n2):\n",
    "    \"\"\"\n",
    "    Calculates the vector that takes you from n1 to n2\n",
    "    \"\"\"\n",
    "    xy1 = nodes_xy[n1]\n",
    "    xy2 = nodes_xy[n2]\n",
    "    \n",
    "    dx = xy2['x'] - xy1['x']\n",
    "    dy = xy2['y'] - xy1['y']\n",
    "    \n",
    "    return np.array((dx, dy))\n",
    "\n",
    "def segment_vec(segment):\n",
    "    return xy_vec(segment[0], segment[1])\n",
    "\n",
    "def segment_unit_vec(segment):\n",
    "    arr = segment_vec(segment)\n",
    "    return arr / np.linalg.norm(arr)    "
   ]
  },
  {
   "cell_type": "code",
   "execution_count": 110,
   "metadata": {},
   "outputs": [
    {
     "data": {
      "text/plain": [
       "(0.00030956553426011475,\n",
       " array([-0.0001301,  0.0002809]),\n",
       " array([-0.42026642,  0.90740076]))"
      ]
     },
     "execution_count": 110,
     "metadata": {},
     "output_type": "execute_result"
    }
   ],
   "source": [
    "vec = segment_vec(segment)\n",
    "length = np.linalg.norm(vec)\n",
    "unit_vec = segment_unit_vec(segment)\n",
    "length, vec, unit_vec"
   ]
  },
  {
   "cell_type": "code",
   "execution_count": 119,
   "metadata": {},
   "outputs": [
    {
     "data": {
      "text/plain": [
       "array([-8.80733576e-05,  1.90159924e-04])"
      ]
     },
     "execution_count": 119,
     "metadata": {},
     "output_type": "execute_result"
    }
   ],
   "source": [
    "vec - (.0001 * unit_vec)"
   ]
  },
  {
   "cell_type": "code",
   "execution_count": null,
   "metadata": {},
   "outputs": [],
   "source": []
  },
  {
   "cell_type": "code",
   "execution_count": 106,
   "metadata": {},
   "outputs": [
    {
     "name": "stdout",
     "output_type": "stream",
     "text": [
      "two way street!\n",
      "[0.88253045 0.47025525]\n",
      "[-0.88253045 -0.47025525]\n",
      "two way street!\n",
      "[-0.42014804  0.90745558]\n",
      "[ 0.42014804 -0.90745558]\n",
      "two way street!\n",
      "[-0.92850898 -0.37130994]\n",
      "[0.92850898 0.37130994]\n",
      "two way street!\n",
      "[0.92850898 0.37130994]\n",
      "[-0.92850898 -0.37130994]\n",
      "two way street!\n",
      "[-0.40552043  0.91408598]\n",
      "[ 0.40552043 -0.91408598]\n",
      "two way street!\n",
      "[ 0.40552043 -0.91408598]\n",
      "[-0.40552043  0.91408598]\n",
      "two way street!\n",
      "[-0.89352255 -0.44901832]\n",
      "[0.89352255 0.44901832]\n",
      "two way street!\n",
      "[ 0.42014804 -0.90745558]\n",
      "[-0.42014804  0.90745558]\n",
      "two way street!\n",
      "[-0.88253045 -0.47025525]\n",
      "[0.88253045 0.47025525]\n",
      "two way street!\n",
      "[-0.3494931   0.93693894]\n",
      "[ 0.3494931  -0.93693894]\n",
      "two way street!\n",
      "[0.95255329 0.30437187]\n",
      "[-0.95255329 -0.30437187]\n",
      "two way street!\n",
      "[-0.46819464  0.88362536]\n",
      "[ 0.46819464 -0.88362536]\n",
      "two way street!\n",
      "[-0.92940827 -0.3690532 ]\n",
      "[0.92940827 0.3690532 ]\n",
      "two way street!\n",
      "[ 0.46819464 -0.88362536]\n",
      "[-0.46819464  0.88362536]\n",
      "two way street!\n",
      "[-0.96293023  0.26975056]\n",
      "[ 0.96293023 -0.26975056]\n",
      "two way street!\n",
      "[ 0.42026642 -0.90740076]\n",
      "[-0.42026642  0.90740076]\n",
      "two way street!\n",
      "[0.89352255 0.44901832]\n",
      "[-0.89352255 -0.44901832]\n",
      "two way street!\n",
      "[ 0.3494931  -0.93693894]\n",
      "[-0.3494931   0.93693894]\n",
      "two way street!\n",
      "[ 0.96293023 -0.26975056]\n",
      "[-0.96293023  0.26975056]\n",
      "two way street!\n",
      "[ 0.44801687 -0.8940251 ]\n",
      "[-0.44801687  0.8940251 ]\n",
      "two way street!\n",
      "[-0.95255329 -0.30437187]\n",
      "[0.95255329 0.30437187]\n",
      "two way street!\n",
      "[ 0.18573533 -0.98259981]\n",
      "[-0.18573533  0.98259981]\n",
      "two way street!\n",
      "[0.92940827 0.3690532 ]\n",
      "[-0.92940827 -0.3690532 ]\n",
      "two way street!\n",
      "[-0.18573533  0.98259981]\n",
      "[ 0.18573533 -0.98259981]\n",
      "two way street!\n",
      "[-0.44801687  0.8940251 ]\n",
      "[ 0.44801687 -0.8940251 ]\n",
      "two way street!\n",
      "[-0.42026642  0.90740076]\n",
      "[ 0.42026642 -0.90740076]\n"
     ]
    }
   ],
   "source": [
    "for segment in segments:\n",
    "    segment_comp = complement_segment(segment)\n",
    "    if segment_comp in segments:\n",
    "        print(\"two way street!\")\n",
    "        print(segment_unit_vec(segment))\n",
    "        \n",
    "        \n",
    "        print(segment_unit_vec(segment_comp))\n",
    "    else:\n",
    "        print(\"one way street!\")\n",
    "        print(segment_unit_vec(segment))"
   ]
  },
  {
   "cell_type": "code",
   "execution_count": 62,
   "metadata": {},
   "outputs": [],
   "source": [
    "segment = list(segments)[0]"
   ]
  },
  {
   "cell_type": "code",
   "execution_count": 63,
   "metadata": {},
   "outputs": [],
   "source": [
    "segment_comp = complement_segment(segment)"
   ]
  },
  {
   "cell_type": "code",
   "execution_count": 64,
   "metadata": {},
   "outputs": [
    {
     "data": {
      "text/plain": [
       "((5441299823, 5441299822, 'out'), (5441299822, 5441299823, 'in'))"
      ]
     },
     "execution_count": 64,
     "metadata": {},
     "output_type": "execute_result"
    }
   ],
   "source": [
    "segment"
   ]
  },
  {
   "cell_type": "code",
   "execution_count": 65,
   "metadata": {},
   "outputs": [
    {
     "data": {
      "text/plain": [
       "((5441299822, 5441299823, 'out'), (5441299823, 5441299822, 'in'))"
      ]
     },
     "execution_count": 65,
     "metadata": {},
     "output_type": "execute_result"
    }
   ],
   "source": [
    "segment_comp"
   ]
  },
  {
   "cell_type": "code",
   "execution_count": 37,
   "metadata": {},
   "outputs": [],
   "source": [
    "dir01 = xy_vec(segment[0], segment[1])"
   ]
  },
  {
   "cell_type": "code",
   "execution_count": 18,
   "metadata": {},
   "outputs": [
    {
     "data": {
      "text/plain": [
       "({'y': 38.8810381, 'x': -77.1026845, 'osmid': 5441299823},\n",
       " {'y': 38.8812287, 'x': -77.1023268, 'osmid': 5441299822})"
      ]
     },
     "execution_count": 18,
     "metadata": {},
     "output_type": "execute_result"
    }
   ],
   "source": [
    "bbox_graph.nodes()[segment[0][0]], bbox_graph.nodes()[segment[1][0]]"
   ]
  },
  {
   "cell_type": "markdown",
   "metadata": {},
   "source": [
    "## Connectivity 2\n",
    "\n",
    "Use the geometry to determine left turns and fill in the missing bicyclist two part left turn"
   ]
  },
  {
   "cell_type": "markdown",
   "metadata": {},
   "source": [
    "## Data\n",
    "\n",
    "Use data to remove any traffic defined impediments (such as a not left turn sign)"
   ]
  },
  {
   "cell_type": "markdown",
   "metadata": {},
   "source": [
    "## Data 2\n",
    "\n",
    "Add data into the graph"
   ]
  },
  {
   "cell_type": "code",
   "execution_count": 19,
   "metadata": {},
   "outputs": [
    {
     "data": {
      "text/plain": [
       "NodeDataView({5441299616: {'y': 38.8808526, 'x': -77.1030179, 'osmid': 5441299616}, 5441299617: {'y': 38.8812344, 'x': -77.1031573, 'osmid': 5441299617}, 5441299822: {'y': 38.8812287, 'x': -77.1023268, 'osmid': 5441299822}, 5441299823: {'y': 38.8810381, 'x': -77.1026845, 'osmid': 5441299823}, 5441299824: {'y': 38.8815322, 'x': -77.1029037, 'osmid': 5441299824}, 5441299828: {'y': 38.8800589, 'x': -77.1021938, 'osmid': 5441299828}, 63334543: {'y': 38.8808328, 'x': -77.1021435, 'osmid': 63334543}, 2219272722: {'y': 38.8816352, 'x': -77.102142, 'osmid': 2219272722}, 63334966: {'y': 38.880869, 'x': -77.103021, 'osmid': 63334966}, 5600335178: {'y': 38.8814232, 'x': -77.1018666, 'osmid': 5600335178}, 5600335194: {'y': 38.8815096, 'x': -77.1024569, 'osmid': 5600335194}, 63327691: {'y': 38.8801847, 'x': -77.1018001, 'osmid': 63327691}, 5662408421: {'y': 38.8815559, 'x': -77.1023403, 'osmid': 5662408421}})"
      ]
     },
     "execution_count": 19,
     "metadata": {},
     "output_type": "execute_result"
    }
   ],
   "source": [
    "bbox_graph.nodes(data=True)"
   ]
  },
  {
   "cell_type": "markdown",
   "metadata": {},
   "source": [
    "### Create Graph"
   ]
  },
  {
   "cell_type": "code",
   "execution_count": 20,
   "metadata": {},
   "outputs": [],
   "source": [
    "import networkx as nx"
   ]
  },
  {
   "cell_type": "code",
   "execution_count": 30,
   "metadata": {},
   "outputs": [],
   "source": [
    "G = nx.MultiDiGraph()\n",
    "G.graph = {'name': 'Test Graph','crs': {'init': 'epsg:4326'},'simplified': True}\n",
    "G.add_nodes_from([(k, v) for k, v in nodes_xy.items()])"
   ]
  },
  {
   "cell_type": "code",
   "execution_count": 31,
   "metadata": {},
   "outputs": [],
   "source": [
    "edges = set.union(segments, intersections)\n",
    "edges = [(u,v,0,{}) for u,v in edges]\n",
    "G.add_edges_from(edges);"
   ]
  },
  {
   "cell_type": "code",
   "execution_count": 36,
   "metadata": {},
   "outputs": [
    {
     "data": {
      "image/png": "[encoded data removed]",
      "text/plain": [
       "<Figure size 371.954x432 with 1 Axes>"
      ]
     },
     "metadata": {},
     "output_type": "display_data"
    }
   ],
   "source": [
    "ox.plot_graph(G);"
   ]
  },
  {
   "cell_type": "code",
   "execution_count": null,
   "metadata": {},
   "outputs": [],
   "source": []
  },
  {
   "cell_type": "code",
   "execution_count": null,
   "metadata": {},
   "outputs": [],
   "source": []
  },
  {
   "cell_type": "code",
   "execution_count": null,
   "metadata": {},
   "outputs": [],
   "source": []
  },
  {
   "cell_type": "code",
   "execution_count": null,
   "metadata": {},
   "outputs": [],
   "source": []
  },
  {
   "cell_type": "code",
   "execution_count": null,
   "metadata": {},
   "outputs": [],
   "source": [
    "def create_test_graph():\n",
    "    G = nx.DiGraph()\n",
    "\n",
    "\n",
    "    edge12 = (1,2,{\"from\":1, \"to\":2, \"length\": 3, \"signalized\":0, \"separated\":0, \"traffic\":1}) # only consistent good feature is traffic\n",
    "    edge23 = (2,3,{\"from\":2, \"to\":3, \"length\": 4, \"signalized\":1, \"separated\":0, \"traffic\":1})\n",
    "    edge34 = (3,4,{\"from\":3, \"to\":4, \"length\": 3, \"signalized\":0, \"separated\":1, \"traffic\":1})\n",
    "\n",
    "    edge16 = (1,6,{\"from\":1, \"to\":6, \"length\": 3, \"signalized\":1, \"separated\":0, \"traffic\":2}) # only consistent good feature is signalization\n",
    "    edge67 = (6,7,{\"from\":6, \"to\":7, \"length\": 4, \"signalized\":1, \"separated\":1, \"traffic\":4})\n",
    "    edge74 = (7,4,{\"from\":7, \"to\":4, \"length\": 3, \"signalized\":1, \"separated\":0, \"traffic\":3})\n",
    "\n",
    "    edge18 = (1,8,{\"from\":1, \"to\":8, \"length\": 3, \"signalized\":0, \"separated\":1, \"traffic\":1}) # only consistent good feature is separation\n",
    "    edge89 = (8,9,{\"from\":8, \"to\":9, \"length\": 4, \"signalized\":1, \"separated\":1, \"traffic\":1})\n",
    "    edge94 = (9,4,{\"from\":9, \"to\":4, \"length\": 3, \"signalized\":0, \"separated\":1, \"traffic\":1})\n",
    "\n",
    "    edge15 = (1,5,{\"from\":1, \"to\":5, \"length\": 3, \"signalized\":0, \"separated\":0, \"traffic\":4}) # everything is bad here\n",
    "    edge54 = (5,4,{\"from\":5, \"to\":4, \"length\": 3, \"signalized\":0, \"separated\":0, \"traffic\":4}) \n",
    "\n",
    "\n",
    "    \n",
    "    nodeList = [(1, {'displacement':10}),\n",
    "                (2, {'displacement':6}),\n",
    "                (3, {'displacement':3}),\n",
    "                (4, {'displacement':0}),\n",
    "                (5, {'displacement':7}),\n",
    "                (6, {'displacement':6}),\n",
    "                (7, {'displacement':3}),\n",
    "                (8, {'displacement':6}),\n",
    "                (9, {'displacement':3})]\n",
    "    edgeList = [edge12,edge23,edge34,edge15,edge54,edge16,edge67,edge74,edge18,edge89,edge94]\n",
    "    \n",
    "\n",
    "    G.add_nodes_from(nodeList)\n",
    "    G.add_edges_from(edgeList)\n",
    "        \n",
    "    return G"
   ]
  },
  {
   "cell_type": "code",
   "execution_count": null,
   "metadata": {},
   "outputs": [],
   "source": [
    "test_G = create_test_graph()"
   ]
  },
  {
   "cell_type": "code",
   "execution_count": null,
   "metadata": {},
   "outputs": [],
   "source": [
    "test_G.nodes(data=True)"
   ]
  },
  {
   "cell_type": "code",
   "execution_count": null,
   "metadata": {},
   "outputs": [],
   "source": []
  }
 ],
 "metadata": {
  "kernelspec": {
   "display_name": "Python [conda env:gis]",
   "language": "python",
   "name": "conda-env-gis-py"
  },
  "language_info": {
   "codemirror_mode": {
    "name": "ipython",
    "version": 3
   },
   "file_extension": ".py",
   "mimetype": "text/x-python",
   "name": "python",
   "nbconvert_exporter": "python",
   "pygments_lexer": "ipython3",
   "version": "3.6.6"
  }
 },
 "nbformat": 4,
 "nbformat_minor": 2
}
