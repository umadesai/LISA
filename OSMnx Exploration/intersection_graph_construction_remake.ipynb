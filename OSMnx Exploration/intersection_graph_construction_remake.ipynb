{
 "cells": [
  {
   "cell_type": "code",
   "execution_count": 1,
   "metadata": {
    "collapsed": false
   },
   "outputs": [],
   "source": [
    "import osmnx as ox"
   ]
  },
  {
   "cell_type": "code",
   "execution_count": 2,
   "metadata": {
    "collapsed": true
   },
   "outputs": [],
   "source": [
    "import numpy as np"
   ]
  },
  {
   "cell_type": "code",
   "execution_count": 3,
   "metadata": {
    "collapsed": true
   },
   "outputs": [],
   "source": [
    "from collections import defaultdict"
   ]
  },
  {
   "cell_type": "code",
   "execution_count": 4,
   "metadata": {
    "collapsed": true
   },
   "outputs": [],
   "source": [
    "import networkx as nx"
   ]
  },
  {
   "cell_type": "code",
   "execution_count": 5,
   "metadata": {
    "collapsed": true
   },
   "outputs": [],
   "source": [
    "from shapely.geometry import Polygon, MultiPolygon"
   ]
  },
  {
   "cell_type": "code",
   "execution_count": 6,
   "metadata": {
    "collapsed": true
   },
   "outputs": [],
   "source": [
    "class Name:\n",
    "    def __init__(self, name: str):\n",
    "        self.name = name\n",
    "        \n",
    "        self.gdf = ox.gdf_from_place(name)\n",
    "        self.official_name = self.gdf.place_name.values[0]\n",
    "        self.geometry = self.gdf.geometry[0]\n",
    "        if not type(self.geometry) is Polygon or type(self.geometry) is MultiPolygon:\n",
    "            raise TypeError(\"Location geometry was not a Polygon or a MultiPolygon\")\n",
    "        \n",
    "    def summary(self):\n",
    "        print(f\"Input Name: {self.name}\")\n",
    "        print(f\"Official Name: {self.official_name}\")\n",
    "        print(type(self.geometry))"
   ]
  },
  {
   "cell_type": "code",
   "execution_count": 7,
   "metadata": {
    "collapsed": true
   },
   "outputs": [],
   "source": [
    "class Bbox:\n",
    "    def __init__(self, north, south, east, west):\n",
    "        self.bbox = (north, south, east, west)\n",
    "        \n",
    "    def __iter__(self):\n",
    "        return (b for b in self.bbox)\n",
    "    \n",
    "    def summary(self):\n",
    "        width = self.bbox[0] - self.bbox[1]\n",
    "        height = self.bbox[2] - self.bbox[3]\n",
    "        area = width * height\n",
    "        print(f\"Width: {width}\")\n",
    "        print(f\"Height: {height}\")\n",
    "        print(f\"Area: {area}\")"
   ]
  },
  {
   "cell_type": "code",
   "execution_count": 8,
   "metadata": {
    "collapsed": true
   },
   "outputs": [],
   "source": [
    "class NodesGeometry:\n",
    "    def __init__(self, G, nodes, segments):\n",
    "        self.segments = segments\n",
    "        nodes_xy = self.create_nodes_xy(G, nodes)\n",
    "        nodes_xy = self.update_nodes_xy(nodes_xy, segments)\n",
    "        self.nodes = self.create_nodes(nodes_xy)\n",
    "    \n",
    "    def create_nodes_xy(self, G, nodes):\n",
    "        nodes_xy = {}\n",
    "        for node in nodes:\n",
    "            xy = G.nodes()[node[0]]\n",
    "            x = xy['x']\n",
    "            y = xy['y']\n",
    "            nodes_xy[node] = np.array((x,y))\n",
    "            \n",
    "        return nodes_xy\n",
    "    \n",
    "    def update_nodes_xy(self, nodes_xy, segments):\n",
    "        dist = .00001 #change to 10 feet once you figure out units\n",
    "        for segment in segments:\n",
    "            if segment[2]['has_comp']:\n",
    "                unit_vec = self.segment_unit_vec(nodes_xy, segment)\n",
    "                perp_vec = np.array([unit_vec[1],unit_vec[0]*-1])\n",
    "                nodes_xy[segment[0]] = nodes_xy[segment[0]] + ((unit_vec * dist) + (perp_vec * dist / 2))\n",
    "                nodes_xy[segment[1]] = nodes_xy[segment[1]] - ((unit_vec * dist) - (perp_vec * dist / 2))\n",
    "            else:\n",
    "                nodes_xy[segment[0]] = nodes_xy[segment[0]] + (unit_vec * dist)\n",
    "                nodes_xy[segment[1]] = nodes_xy[segment[1]] - (unit_vec * dist)\n",
    "    \n",
    "        return nodes_xy\n",
    "\n",
    "    def xy_vec(self, nodes_xy, n1, n2):\n",
    "        \"\"\"\n",
    "        Calculates the vector that takes you from n1 to n2\n",
    "        \"\"\"\n",
    "        return nodes_xy[n2] - nodes_xy[n1]\n",
    "\n",
    "    def segment_vec(self, nodes_xy, segment):\n",
    "        return self.xy_vec(nodes_xy, segment[0], segment[1])\n",
    "\n",
    "    def segment_unit_vec(self, nodes_xy, segment):\n",
    "        arr = self.segment_vec(nodes_xy, segment)\n",
    "        return arr / np.linalg.norm(arr)\n",
    "    \n",
    "    def create_nodes(self, nodes_xy):\n",
    "        nodes_graph = {}\n",
    "        for k,v in nodes_xy.items():\n",
    "            nodes_graph[k] = {'x':v[0], 'y':v[1]}\n",
    "        nodes = [(k, v) for k, v in nodes_graph.items()]\n",
    "        return nodes"
   ]
  },
  {
   "cell_type": "code",
   "execution_count": 9,
   "metadata": {
    "collapsed": true
   },
   "outputs": [],
   "source": [
    "class IntersectionBuilder:\n",
    "    def __init__(self, in_out):\n",
    "        \"\"\"\n",
    "        :param in_out: in out dictionary of the init_map nodes\n",
    "        \"\"\"\n",
    "        self.intersections = self.create_intersections(in_out)\n",
    "    \n",
    "    def create_intersections(self, in_out):\n",
    "        intersections = []\n",
    "        for k, v in in_out.items():\n",
    "            # every in connects to every out - unless same node\n",
    "            for n_in in v['in']:\n",
    "                n1 = (k, n_in, 'in')\n",
    "                for n_out in v['out']:\n",
    "                    n2 = (k, n_out, 'out')\n",
    "                    if n_in != n_out:\n",
    "                        intersections.append((n1, n2, {'type':'intersection'}))\n",
    "        return intersections"
   ]
  },
  {
   "cell_type": "code",
   "execution_count": 10,
   "metadata": {
    "collapsed": true
   },
   "outputs": [],
   "source": [
    "class SegmentBuilder:\n",
    "    def __init__(self, in_out):\n",
    "        \"\"\"\n",
    "        :param in_out: in out dictionary of the init_map nodes\n",
    "        \"\"\"\n",
    "        self.segments = self.create_segments(in_out)\n",
    "        self.nodes = self.extract_nodes(self.segments)\n",
    "    \n",
    "    def extract_nodes(self, segments):\n",
    "        nodes = set()\n",
    "        for segment in segments:\n",
    "            nodes.add(segment[0])\n",
    "            nodes.add(segment[1])\n",
    "        return nodes\n",
    "        \n",
    "    def complement_dir(self, s: str):\n",
    "        \"\"\"\n",
    "        TODO: Switch to True and False so I don't have to write this function\n",
    "        \"\"\"\n",
    "        if s == 'in':\n",
    "            return 'out'\n",
    "        elif s == 'out':\n",
    "            return 'in'\n",
    "        else:\n",
    "            print(\"complement_dir failed\")\n",
    "            \n",
    "    def complement_segment(self, segment):\n",
    "        \"\"\"\n",
    "        Computes the complementary segment of the given segment. The\n",
    "        complementary segement represents the other direction in a two\n",
    "        way street.\n",
    "        \"\"\"\n",
    "        n0 = segment[0]\n",
    "        n1 = segment[1]\n",
    "\n",
    "        n3 = (n0[0], n0[1], self.complement_dir(n0[2]))\n",
    "        n2 = (n1[0], n1[1], self.complement_dir(n1[2]))\n",
    "\n",
    "        return (n2, n3)\n",
    "    \n",
    "    def create_segments_set(self, in_out):\n",
    "        segments_set = set()\n",
    "        for k, v in in_out.items():\n",
    "            for node in v['in']:\n",
    "                n1 = (node, k, 'out')\n",
    "                n2 = (k, node, 'in')\n",
    "                segments_set.add((n1, n2))\n",
    "        return segments_set\n",
    "    \n",
    "    def create_segments_list(self, segments):\n",
    "        segment_list = []\n",
    "        for segment in segments:\n",
    "            if (self.complement_segment(segment) in segments):\n",
    "                has_comp = True\n",
    "            else:\n",
    "                has_comp = False\n",
    "            segment_list.append((segment[0], segment[1], {'type': 'segment', 'has_comp':has_comp}))\n",
    "        return segment_list\n",
    "    \n",
    "    def create_segments(self, in_out):\n",
    "        segments_set = self.create_segments_set(in_out)\n",
    "        segments_list = self.create_segments_list(segments_set)\n",
    "        return segments_list"
   ]
  },
  {
   "cell_type": "code",
   "execution_count": 11,
   "metadata": {
    "collapsed": true
   },
   "outputs": [],
   "source": [
    "class Graph:\n",
    "    \"\"\"\n",
    "    A wrapper for nxgraphs that we should probably have\n",
    "    \n",
    "    Allows conversions between MultiDiGraphs (visualization) and\n",
    "    DiGraphs (A*)\n",
    "    \"\"\"\n",
    "    pass"
   ]
  },
  {
   "cell_type": "code",
   "execution_count": 12,
   "metadata": {
    "collapsed": true
   },
   "outputs": [],
   "source": [
    "class GraphBuilder:\n",
    "    def __init__(self, bound):\n",
    "        \"\"\"\n",
    "        The \"run\" function to make Graph objects\n",
    "        \n",
    "        :param bound: user desired bounds of the graph \n",
    "        :type bound: Name or Bbox\n",
    "        \n",
    "        TODO: Make into callable function that returns a Graph object\n",
    "        TODO: Figure out what should be saved as an attribute and what should be temp\n",
    "        \"\"\"\n",
    "        self.bound = bound\n",
    "        self.init_map = self.initialize_map(self.bound)\n",
    "        self.in_out = self.create_in_out_dict(self.init_map)\n",
    "        segmentBuilder = SegmentBuilder(self.in_out)\n",
    "        self.segments = segmentBuilder.segments\n",
    "        nodes = segmentBuilder.nodes\n",
    "        self.nodes = NodesGeometry(self.init_map, nodes, self.segments).nodes\n",
    "        self.intersections = IntersectionBuilder(self.in_out).intersections\n",
    "        self.edges = self.create_edges(self.segments, self.intersections)\n",
    "        self.G = self.create_graph()\n",
    "    \n",
    "    def initialize_map(self, bound):\n",
    "        \"\"\"\n",
    "        initialize_map takes in a bound and uses osmnx to create an inital\n",
    "        map of the desired area.\n",
    "        \n",
    "        :param bound: user desired bounds of the graph \n",
    "        :type bound: Name or Bbox\n",
    "        \"\"\"\n",
    "        init_map = None\n",
    "        if type(bound) is Name:\n",
    "            init_map = ox.graph_from_place(bound.official_name)\n",
    "        elif type(bound) is Bbox:\n",
    "            init_map = ox.graph_from_bbox(*bbox)\n",
    "        else:\n",
    "            raise RuntimeError(\"Could not create graph from specified bound\")\n",
    "        return init_map\n",
    "                \n",
    "    def create_in_out_dict(self, G):\n",
    "        \"\"\"\n",
    "        Creates a dictionary where each key is a node in a graph whos value\n",
    "        corresponds to the another dictionary that tells what nodes can be traversed\n",
    "        to by following edges \"out\" of the key node and what edges lead \"in\" to the key\n",
    "        node by following directed edges\n",
    "        \n",
    "        :param G: input graph whos nodes and edges are used to create in_out dict\n",
    "        :type G: MultiDiGraph\n",
    "        \"\"\"\n",
    "        def make_dict():\n",
    "            return {'in':[],'out':[]}\n",
    "\n",
    "        in_out = defaultdict(make_dict)\n",
    "        for start, end in G.edges():\n",
    "            if start == end:\n",
    "                continue\n",
    "            in_out[end]['in'].append(start)\n",
    "            in_out[start]['out'].append(end)\n",
    "        return in_out\n",
    "                        \n",
    "    def create_edges(self, segments, intersections):\n",
    "        edges = segments + intersections\n",
    "        edges = [(u,v,0,d) for u,v,d in edges]\n",
    "        return edges\n",
    "    \n",
    "    def create_graph(self):\n",
    "        G = nx.MultiDiGraph()\n",
    "        G.graph = {'name': 'Test Graph','crs': {'init': 'epsg:4326'},'simplified': True}\n",
    "        G.add_nodes_from(self.nodes)\n",
    "        G.add_edges_from(self.edges)\n",
    "        return G\n",
    "    \n",
    "    def plot_graph(self, fig_height=10):\n",
    "        ox.plot_graph(self.G, fig_height=fig_height)\n",
    "        \n",
    "    def plot_map(self, fig_height=10):\n",
    "        \"\"\"\n",
    "        Helper function to the initial \n",
    "        \"\"\"\n",
    "        ox.plot_graph(self.init_map, fig_height=fig_height)\n",
    "        \n",
    "    def save(self, filepath):\n",
    "        \"\"\"\n",
    "        Pickle graph object to a file\n",
    "        \n",
    "        :param filepath: filepath to save the object\n",
    "        :type filepath: string\n",
    "        :rtype: Graph\n",
    "        \"\"\"\n",
    "        pass\n",
    "    \n",
    "    def load(self, filename):\n",
    "        \"\"\"\n",
    "        Unpickle a graph object\n",
    "        \n",
    "        :param filepath: filepath to the object\n",
    "        :type filepath: string\n",
    "        :rtype: Graph\n",
    "        \"\"\"\n",
    "        pass"
   ]
  },
  {
   "cell_type": "code",
   "execution_count": 13,
   "metadata": {
    "collapsed": true
   },
   "outputs": [],
   "source": [
    "bbox = Bbox(38.88300016, 38.878726840000006, -77.09939832, -77.10500768)"
   ]
  },
  {
   "cell_type": "code",
   "execution_count": 14,
   "metadata": {
    "collapsed": false
   },
   "outputs": [
    {
     "ename": "UnboundLocalError",
     "evalue": "local variable 'unit_vec' referenced before assignment",
     "output_type": "error",
     "traceback": [
      "\u001b[1;31m---------------------------------------------------------------------------\u001b[0m",
      "\u001b[1;31mUnboundLocalError\u001b[0m                         Traceback (most recent call last)",
      "\u001b[1;32m<ipython-input-14-cb835e83c789>\u001b[0m in \u001b[0;36m<module>\u001b[1;34m\u001b[0m\n\u001b[1;32m----> 1\u001b[1;33m \u001b[0mGB\u001b[0m \u001b[1;33m=\u001b[0m \u001b[0mGraphBuilder\u001b[0m\u001b[1;33m(\u001b[0m\u001b[0mbbox\u001b[0m\u001b[1;33m)\u001b[0m\u001b[1;33m\u001b[0m\u001b[0m\n\u001b[0m",
      "\u001b[1;32m<ipython-input-12-d9ec8f21ca6e>\u001b[0m in \u001b[0;36m__init__\u001b[1;34m(self, bound)\u001b[0m\n\u001b[0;32m     16\u001b[0m         \u001b[0mself\u001b[0m\u001b[1;33m.\u001b[0m\u001b[0msegments\u001b[0m \u001b[1;33m=\u001b[0m \u001b[0msegmentBuilder\u001b[0m\u001b[1;33m.\u001b[0m\u001b[0msegments\u001b[0m\u001b[1;33m\u001b[0m\u001b[0m\n\u001b[0;32m     17\u001b[0m         \u001b[0mnodes\u001b[0m \u001b[1;33m=\u001b[0m \u001b[0msegmentBuilder\u001b[0m\u001b[1;33m.\u001b[0m\u001b[0mnodes\u001b[0m\u001b[1;33m\u001b[0m\u001b[0m\n\u001b[1;32m---> 18\u001b[1;33m         \u001b[0mself\u001b[0m\u001b[1;33m.\u001b[0m\u001b[0mnodes\u001b[0m \u001b[1;33m=\u001b[0m \u001b[0mNodesGeometry\u001b[0m\u001b[1;33m(\u001b[0m\u001b[0mself\u001b[0m\u001b[1;33m.\u001b[0m\u001b[0minit_map\u001b[0m\u001b[1;33m,\u001b[0m \u001b[0mnodes\u001b[0m\u001b[1;33m,\u001b[0m \u001b[0mself\u001b[0m\u001b[1;33m.\u001b[0m\u001b[0msegments\u001b[0m\u001b[1;33m)\u001b[0m\u001b[1;33m.\u001b[0m\u001b[0mnodes\u001b[0m\u001b[1;33m\u001b[0m\u001b[0m\n\u001b[0m\u001b[0;32m     19\u001b[0m         \u001b[0mself\u001b[0m\u001b[1;33m.\u001b[0m\u001b[0mintersections\u001b[0m \u001b[1;33m=\u001b[0m \u001b[0mIntersectionBuilder\u001b[0m\u001b[1;33m(\u001b[0m\u001b[0mself\u001b[0m\u001b[1;33m.\u001b[0m\u001b[0min_out\u001b[0m\u001b[1;33m)\u001b[0m\u001b[1;33m.\u001b[0m\u001b[0mintersections\u001b[0m\u001b[1;33m\u001b[0m\u001b[0m\n\u001b[0;32m     20\u001b[0m         \u001b[0mself\u001b[0m\u001b[1;33m.\u001b[0m\u001b[0medges\u001b[0m \u001b[1;33m=\u001b[0m \u001b[0mself\u001b[0m\u001b[1;33m.\u001b[0m\u001b[0mcreate_edges\u001b[0m\u001b[1;33m(\u001b[0m\u001b[0mself\u001b[0m\u001b[1;33m.\u001b[0m\u001b[0msegments\u001b[0m\u001b[1;33m,\u001b[0m \u001b[0mself\u001b[0m\u001b[1;33m.\u001b[0m\u001b[0mintersections\u001b[0m\u001b[1;33m)\u001b[0m\u001b[1;33m\u001b[0m\u001b[0m\n",
      "\u001b[1;32m<ipython-input-8-fee42a1da889>\u001b[0m in \u001b[0;36m__init__\u001b[1;34m(self, G, nodes, segments)\u001b[0m\n\u001b[0;32m      3\u001b[0m         \u001b[0mself\u001b[0m\u001b[1;33m.\u001b[0m\u001b[0msegments\u001b[0m \u001b[1;33m=\u001b[0m \u001b[0msegments\u001b[0m\u001b[1;33m\u001b[0m\u001b[0m\n\u001b[0;32m      4\u001b[0m         \u001b[0mnodes_xy\u001b[0m \u001b[1;33m=\u001b[0m \u001b[0mself\u001b[0m\u001b[1;33m.\u001b[0m\u001b[0mcreate_nodes_xy\u001b[0m\u001b[1;33m(\u001b[0m\u001b[0mG\u001b[0m\u001b[1;33m,\u001b[0m \u001b[0mnodes\u001b[0m\u001b[1;33m)\u001b[0m\u001b[1;33m\u001b[0m\u001b[0m\n\u001b[1;32m----> 5\u001b[1;33m         \u001b[0mnodes_xy\u001b[0m \u001b[1;33m=\u001b[0m \u001b[0mself\u001b[0m\u001b[1;33m.\u001b[0m\u001b[0mupdate_nodes_xy\u001b[0m\u001b[1;33m(\u001b[0m\u001b[0mnodes_xy\u001b[0m\u001b[1;33m,\u001b[0m \u001b[0msegments\u001b[0m\u001b[1;33m)\u001b[0m\u001b[1;33m\u001b[0m\u001b[0m\n\u001b[0m\u001b[0;32m      6\u001b[0m         \u001b[0mself\u001b[0m\u001b[1;33m.\u001b[0m\u001b[0mnodes\u001b[0m \u001b[1;33m=\u001b[0m \u001b[0mself\u001b[0m\u001b[1;33m.\u001b[0m\u001b[0mcreate_nodes\u001b[0m\u001b[1;33m(\u001b[0m\u001b[0mnodes_xy\u001b[0m\u001b[1;33m)\u001b[0m\u001b[1;33m\u001b[0m\u001b[0m\n\u001b[0;32m      7\u001b[0m \u001b[1;33m\u001b[0m\u001b[0m\n",
      "\u001b[1;32m<ipython-input-8-fee42a1da889>\u001b[0m in \u001b[0;36mupdate_nodes_xy\u001b[1;34m(self, nodes_xy, segments)\u001b[0m\n\u001b[0;32m     25\u001b[0m                 \u001b[0mnodes_xy\u001b[0m\u001b[1;33m[\u001b[0m\u001b[0msegment\u001b[0m\u001b[1;33m[\u001b[0m\u001b[1;36m1\u001b[0m\u001b[1;33m]\u001b[0m\u001b[1;33m]\u001b[0m \u001b[1;33m=\u001b[0m \u001b[0mnodes_xy\u001b[0m\u001b[1;33m[\u001b[0m\u001b[0msegment\u001b[0m\u001b[1;33m[\u001b[0m\u001b[1;36m1\u001b[0m\u001b[1;33m]\u001b[0m\u001b[1;33m]\u001b[0m \u001b[1;33m-\u001b[0m \u001b[1;33m(\u001b[0m\u001b[1;33m(\u001b[0m\u001b[0munit_vec\u001b[0m \u001b[1;33m*\u001b[0m \u001b[0mdist\u001b[0m\u001b[1;33m)\u001b[0m \u001b[1;33m-\u001b[0m \u001b[1;33m(\u001b[0m\u001b[0mperp_vec\u001b[0m \u001b[1;33m*\u001b[0m \u001b[0mdist\u001b[0m \u001b[1;33m/\u001b[0m \u001b[1;36m2\u001b[0m\u001b[1;33m)\u001b[0m\u001b[1;33m)\u001b[0m\u001b[1;33m\u001b[0m\u001b[0m\n\u001b[0;32m     26\u001b[0m             \u001b[1;32melse\u001b[0m\u001b[1;33m:\u001b[0m\u001b[1;33m\u001b[0m\u001b[0m\n\u001b[1;32m---> 27\u001b[1;33m                 \u001b[0mnodes_xy\u001b[0m\u001b[1;33m[\u001b[0m\u001b[0msegment\u001b[0m\u001b[1;33m[\u001b[0m\u001b[1;36m0\u001b[0m\u001b[1;33m]\u001b[0m\u001b[1;33m]\u001b[0m \u001b[1;33m=\u001b[0m \u001b[0mnodes_xy\u001b[0m\u001b[1;33m[\u001b[0m\u001b[0msegment\u001b[0m\u001b[1;33m[\u001b[0m\u001b[1;36m0\u001b[0m\u001b[1;33m]\u001b[0m\u001b[1;33m]\u001b[0m \u001b[1;33m+\u001b[0m \u001b[1;33m(\u001b[0m\u001b[0munit_vec\u001b[0m \u001b[1;33m*\u001b[0m \u001b[0mdist\u001b[0m\u001b[1;33m)\u001b[0m\u001b[1;33m\u001b[0m\u001b[0m\n\u001b[0m\u001b[0;32m     28\u001b[0m                 \u001b[0mnodes_xy\u001b[0m\u001b[1;33m[\u001b[0m\u001b[0msegment\u001b[0m\u001b[1;33m[\u001b[0m\u001b[1;36m1\u001b[0m\u001b[1;33m]\u001b[0m\u001b[1;33m]\u001b[0m \u001b[1;33m=\u001b[0m \u001b[0mnodes_xy\u001b[0m\u001b[1;33m[\u001b[0m\u001b[0msegment\u001b[0m\u001b[1;33m[\u001b[0m\u001b[1;36m1\u001b[0m\u001b[1;33m]\u001b[0m\u001b[1;33m]\u001b[0m \u001b[1;33m-\u001b[0m \u001b[1;33m(\u001b[0m\u001b[0munit_vec\u001b[0m \u001b[1;33m*\u001b[0m \u001b[0mdist\u001b[0m\u001b[1;33m)\u001b[0m\u001b[1;33m\u001b[0m\u001b[0m\n\u001b[0;32m     29\u001b[0m \u001b[1;33m\u001b[0m\u001b[0m\n",
      "\u001b[1;31mUnboundLocalError\u001b[0m: local variable 'unit_vec' referenced before assignment"
     ]
    }
   ],
   "source": [
    "GB = GraphBuilder(bbox)"
   ]
  },
  {
   "cell_type": "code",
   "execution_count": null,
   "metadata": {
    "collapsed": false
   },
   "outputs": [],
   "source": []
  },
  {
   "cell_type": "code",
   "execution_count": null,
   "metadata": {
    "collapsed": false
   },
   "outputs": [],
   "source": []
  },
  {
   "cell_type": "code",
   "execution_count": null,
   "metadata": {
    "collapsed": true
   },
   "outputs": [],
   "source": [
    "class MapLoader:\n",
    "    def __init__(self):\n",
    "        "
   ]
  },
  {
   "cell_type": "code",
   "execution_count": null,
   "metadata": {
    "collapsed": true
   },
   "outputs": [],
   "source": [
    "bbox = (38.88300016, 38.878726840000006, -77.09939832, -77.10500768)"
   ]
  },
  {
   "cell_type": "code",
   "execution_count": 15,
   "metadata": {
    "collapsed": true
   },
   "outputs": [],
   "source": [
    "bbox_graph = ox.graph_from_bbox(*bbox)"
   ]
  },
  {
   "cell_type": "code",
   "execution_count": 16,
   "metadata": {
    "collapsed": false
   },
   "outputs": [
    {
     "data": {
      "image/png": "[encoded data removed]",
      "text/plain": [
       "<Figure size 253.409x216 with 1 Axes>"
      ]
     },
     "metadata": {},
     "output_type": "display_data"
    }
   ],
   "source": [
    "ox.plot_graph(bbox_graph, fig_height=3);"
   ]
  },
  {
   "cell_type": "code",
   "execution_count": null,
   "metadata": {
    "collapsed": true
   },
   "outputs": [],
   "source": []
  },
  {
   "cell_type": "code",
   "execution_count": null,
   "metadata": {
    "collapsed": true
   },
   "outputs": [],
   "source": [
    "name = Name(\"Needham, MA\")"
   ]
  },
  {
   "cell_type": "code",
   "execution_count": null,
   "metadata": {
    "collapsed": true
   },
   "outputs": [],
   "source": []
  }
 ],
 "metadata": {
  "kernelspec": {
   "display_name": "Python [gis]",
   "language": "python",
   "name": "Python [gis]"
  },
  "language_info": {
   "codemirror_mode": {
    "name": "ipython",
    "version": 3
   },
   "file_extension": ".py",
   "mimetype": "text/x-python",
   "name": "python",
   "nbconvert_exporter": "python",
   "pygments_lexer": "ipython3",
   "version": "3.6.6"
  }
 },
 "nbformat": 4,
 "nbformat_minor": 2
}
