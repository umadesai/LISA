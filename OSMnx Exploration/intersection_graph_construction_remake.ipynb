{
 "cells": [
  {
   "cell_type": "code",
   "execution_count": 1,
   "metadata": {},
   "outputs": [],
   "source": [
    "import osmnx as ox\n",
    "import numpy as np\n",
    "from collections import defaultdict\n",
    "import networkx as nx\n",
    "from shapely.geometry import Polygon, MultiPolygon\n",
    "import pickle\n",
    "import matplotlib.pyplot as plt"
   ]
  },
  {
   "cell_type": "code",
   "execution_count": 3,
   "metadata": {},
   "outputs": [],
   "source": [
    "class Name:\n",
    "    def __init__(self, name: str):\n",
    "        self.name = name\n",
    "        \n",
    "        self.gdf = ox.gdf_from_place(name)\n",
    "        self.official_name = self.gdf.place_name.values[0]\n",
    "        self.geometry = self.gdf.geometry[0]\n",
    "        if not type(self.geometry) is Polygon or type(self.geometry) is MultiPolygon:\n",
    "            raise TypeError(\"Location geometry was not a Polygon or a MultiPolygon\")\n",
    "        \n",
    "    def summary(self):\n",
    "        print(f\"Input Name: {self.name}\")\n",
    "        print(f\"Official Name: {self.official_name}\")\n",
    "        print(type(self.geometry))\n",
    "        "
   ]
  },
  {
   "cell_type": "code",
   "execution_count": 4,
   "metadata": {},
   "outputs": [],
   "source": [
    "class Bbox:\n",
    "    def __init__(self, north, south, east, west):\n",
    "        self.bbox = (north, south, east, west)\n",
    "        \n",
    "    def __iter__(self):\n",
    "        return (b for b in self.bbox)\n",
    "    \n",
    "    def summary(self):\n",
    "        width = self.bbox[0] - self.bbox[1]\n",
    "        height = self.bbox[2] - self.bbox[3]\n",
    "        area = width * height\n",
    "        print(f\"Width: {width}\")\n",
    "        print(f\"Height: {height}\")\n",
    "        print(f\"Area: {area}\")"
   ]
  },
  {
   "cell_type": "code",
   "execution_count": 5,
   "metadata": {},
   "outputs": [],
   "source": [
    "class NodesGeometry:\n",
    "    def __init__(self, G, nodes, segments):\n",
    "        self.segments = segments\n",
    "        nodes_xy = self.create_nodes_xy(G, nodes)\n",
    "        nodes_xy = self.update_nodes_xy(nodes_xy, segments)\n",
    "        self.nodes = self.create_nodes(nodes_xy)\n",
    "    \n",
    "    @staticmethod\n",
    "    def xy_vec(nodes_xy, n1, n2):\n",
    "        \"\"\"\n",
    "        Calculates the vector that takes you from n1 to n2\n",
    "        \"\"\"\n",
    "        return nodes_xy[n2] - nodes_xy[n1]\n",
    "\n",
    "    @staticmethod\n",
    "    def segment_vec(nodes_xy, segment):\n",
    "        return NodesGeometry.xy_vec(nodes_xy, segment[0], segment[1])\n",
    "\n",
    "    @staticmethod\n",
    "    def segment_unit_vec(nodes_xy, segment):\n",
    "        arr = NodesGeometry.segment_vec(nodes_xy, segment)\n",
    "        return arr / np.linalg.norm(arr)\n",
    "    \n",
    "    def create_nodes_xy(self, G, nodes):\n",
    "        nodes_xy = {}\n",
    "        for node in nodes:\n",
    "            xy = G.nodes()[node[0]]\n",
    "            x = xy['x']\n",
    "            y = xy['y']\n",
    "            nodes_xy[node] = np.array((x,y))\n",
    "            \n",
    "        return nodes_xy\n",
    "    \n",
    "    def update_nodes_xy(self, nodes_xy, segments):\n",
    "        dist = .00001 #change to 10 feet once you figure out units\n",
    "        for segment in segments:\n",
    "            if segment[2]['has_comp']:\n",
    "                unit_vec = NodesGeometry.segment_unit_vec(nodes_xy, segment)\n",
    "                perp_vec = np.array([unit_vec[1],unit_vec[0]*-1])\n",
    "                nodes_xy[segment[0]] = nodes_xy[segment[0]] + ((unit_vec * dist) + (perp_vec * dist / 2))\n",
    "                nodes_xy[segment[1]] = nodes_xy[segment[1]] - ((unit_vec * dist) - (perp_vec * dist / 2))\n",
    "            else:\n",
    "                nodes_xy[segment[0]] = nodes_xy[segment[0]] + (unit_vec * dist)\n",
    "                nodes_xy[segment[1]] = nodes_xy[segment[1]] - (unit_vec * dist)\n",
    "    \n",
    "        return nodes_xy\n",
    "    \n",
    "    def create_nodes(self, nodes_xy):\n",
    "        nodes_graph = {}\n",
    "        for k,v in nodes_xy.items():\n",
    "            nodes_graph[k] = {'x':v[0], 'y':v[1]}\n",
    "        nodes = [(k, v) for k, v in nodes_graph.items()]\n",
    "        return nodes"
   ]
  },
  {
   "cell_type": "code",
   "execution_count": 6,
   "metadata": {},
   "outputs": [],
   "source": [
    "class IntersectionBuilder:\n",
    "    def __init__(self, in_out):\n",
    "        \"\"\"\n",
    "        :param in_out: in out dictionary of the init_graph nodes\n",
    "        \"\"\"\n",
    "        self.intersections = self.create_intersections(in_out)\n",
    "    \n",
    "    def create_intersections(self, in_out):\n",
    "        intersections = []\n",
    "        for k, v in in_out.items():\n",
    "            # every in connects to every out - unless same node\n",
    "            for n_in in v['in']:\n",
    "                n1 = (k, n_in, 'in')\n",
    "                for n_out in v['out']:\n",
    "                    n2 = (k, n_out, 'out')\n",
    "                    if n_in != n_out:\n",
    "                        intersections.append((n1, n2, {'type':'intersection'}))\n",
    "        return intersections\n",
    "\n",
    "\n",
    "class SegmentBuilder:\n",
    "    def __init__(self, in_out):\n",
    "        \"\"\"\n",
    "        :param in_out: in out dictionary of the init_graph nodes\n",
    "        \"\"\"\n",
    "        self.segments = self.create_segments(in_out)\n",
    "        self.nodes = self.extract_nodes(self.segments)\n",
    "    \n",
    "    def extract_nodes(self, segments):\n",
    "        nodes = set()\n",
    "        for segment in segments:\n",
    "            nodes.add(segment[0])\n",
    "            nodes.add(segment[1])\n",
    "        return nodes\n",
    "        \n",
    "    def complement_dir(self, s: str):\n",
    "        \"\"\"\n",
    "        TODO: Switch to True and False so I don't have to write this function\n",
    "        \"\"\"\n",
    "        if s == 'in':\n",
    "            return 'out'\n",
    "        elif s == 'out':\n",
    "            return 'in'\n",
    "        else:\n",
    "            print(\"complement_dir failed\")\n",
    "            \n",
    "    def complement_segment(self, segment):\n",
    "        \"\"\"\n",
    "        Computes the complementary segment of the given segment. The\n",
    "        complementary segement represents the other direction in a two\n",
    "        way street.\n",
    "        \"\"\"\n",
    "        n0 = segment[0]\n",
    "        n1 = segment[1]\n",
    "\n",
    "        n3 = (n0[0], n0[1], self.complement_dir(n0[2]))\n",
    "        n2 = (n1[0], n1[1], self.complement_dir(n1[2]))\n",
    "\n",
    "        return (n2, n3)\n",
    "    \n",
    "    def create_segments_set(self, in_out):\n",
    "        segments_set = set()\n",
    "        for k, v in in_out.items():\n",
    "            for node in v['in']:\n",
    "                n1 = (node, k, 'out')\n",
    "                n2 = (k, node, 'in')\n",
    "                segments_set.add((n1, n2))\n",
    "        return segments_set\n",
    "    \n",
    "    def create_segments_list(self, segments):\n",
    "        segment_list = []\n",
    "        for segment in segments:\n",
    "            if (self.complement_segment(segment) in segments):\n",
    "                has_comp = True\n",
    "            else:\n",
    "                has_comp = False\n",
    "            segment_list.append((segment[0], segment[1], {'type': 'segment', 'has_comp':has_comp}))\n",
    "        return segment_list\n",
    "    \n",
    "    def create_segments(self, in_out):\n",
    "        segments_set = self.create_segments_set(in_out)\n",
    "        segments_list = self.create_segments_list(segments_set)\n",
    "        return segments_list"
   ]
  },
  {
   "cell_type": "code",
   "execution_count": 78,
   "metadata": {},
   "outputs": [],
   "source": [
    "class GraphBuilder:\n",
    "    def __init__(self, bound):\n",
    "        \"\"\"\n",
    "        The \"run\" function to make Graph objects\n",
    "        \n",
    "        :param bound: user desired bounds of the graph \n",
    "        :type bound: Name or Bbox\n",
    "        \n",
    "        TODO: Make into callable function that returns a Graph object\n",
    "        TODO: Figure out what should be saved as an attribute and what should be temp\n",
    "        \"\"\"\n",
    "        self.bound = bound\n",
    "        self.init_graph = self.initialize_map(self.bound)\n",
    "        self.in_out = self.create_in_out_dict(self.init_graph)\n",
    "        segmentBuilder = SegmentBuilder(self.in_out)\n",
    "        self.segments = segmentBuilder.segments\n",
    "        nodes = segmentBuilder.nodes\n",
    "        self.nodes = NodesGeometry(self.init_graph, nodes, self.segments).nodes\n",
    "        self.intersections = IntersectionBuilder(self.in_out).intersections\n",
    "        self.edges = self.create_edges(self.segments, self.intersections)\n",
    "        self.DG = self.create_dg()\n",
    "        self.node_map = self.create_node_map()\n",
    "        self.convert_to_int_graph()\n",
    "    \n",
    "    def initialize_map(self, bound):\n",
    "        \"\"\"\n",
    "        initialize_map takes in a bound and uses osmnx to create an inital\n",
    "        map of the desired area.\n",
    "        \n",
    "        :param bound: user desired bounds of the graph \n",
    "        :type bound: Name or Bbox\n",
    "        \"\"\"\n",
    "        init_graph = None\n",
    "        if type(bound) is Name:\n",
    "            init_graph = ox.graph_from_place(bound.official_name)\n",
    "        elif type(bound) is Bbox:\n",
    "            init_graph = ox.graph_from_bbox(*bbox)\n",
    "        else:\n",
    "            raise RuntimeError(\"Could not create graph from specified bound\")\n",
    "        return init_graph\n",
    "                \n",
    "    def create_in_out_dict(self, G):\n",
    "        \"\"\"\n",
    "        Creates a dictionary where each key is a node in a graph whos value\n",
    "        corresponds to the another dictionary that tells what nodes can be traversed\n",
    "        to by following edges \"out\" of the key node and what edges lead \"in\" to the key\n",
    "        node by following directed edges\n",
    "        \n",
    "        :param G: input graph whos nodes and edges are used to create in_out dict\n",
    "        :type G: MultiDiGraph\n",
    "        \"\"\"\n",
    "        def make_dict():\n",
    "            return {'in':[],'out':[]}\n",
    "\n",
    "        in_out = defaultdict(make_dict)\n",
    "        for start, end in G.edges():\n",
    "            if start == end:\n",
    "                continue\n",
    "            in_out[end]['in'].append(start)\n",
    "            in_out[start]['out'].append(end)\n",
    "        return in_out\n",
    "    \n",
    "    def create_node_map(self):\n",
    "        \"\"\"\n",
    "        Creates a node map associating the intitial nodes with the corresponding\n",
    "        expanded nodprint(node)es. This will allow us to add data to an entire intersection by\n",
    "        just locating the closest node in the initial graph.\n",
    "        \"\"\"\n",
    "        node_map = {x:[] for x in self.init_graph.nodes}\n",
    "        for node in self.DG.nodes:\n",
    "            if node[2] == 'in':\n",
    "                node_map[node[0]].append(node)\n",
    "            elif node[2] == 'out':\n",
    "                node_map[node[1]].append(node)\n",
    "            else:\n",
    "                raise Exception(f\"Found bad node: {node}\")\n",
    "        return node_map\n",
    "                        \n",
    "    def create_edges(self, segments, intersections):\n",
    "        edges = segments + intersections\n",
    "        edges = [(u,v,0,d) for u,v,d in edges]\n",
    "        return edges\n",
    "    \n",
    "    def create_dg(self):\n",
    "        G = nx.DiGraph()\n",
    "        G.add_nodes_from(self.nodes)\n",
    "\n",
    "        G.add_edges_from([(e[0], e[1], e[3]) for e in self.edges])\n",
    "        return G\n",
    "    \n",
    "    def convert_to_int_graph(self):\n",
    "        node_to_int = {node:i for i,node in enumerate(self.DG.nodes)}\n",
    "\n",
    "        int_nodes = []\n",
    "        for node,data in self.DG.nodes(data=True):\n",
    "            int_nodes.append((node_to_int[node],data))\n",
    "\n",
    "        int_edges = []\n",
    "        for n1,n2,data in list(self.DG.edges(data=True)):\n",
    "            int_edges.append((node_to_int[n1],node_to_int[n2],data))\n",
    "            \n",
    "        G = nx.DiGraph()\n",
    "        G.add_nodes_from(int_nodes)\n",
    "        G.add_edges_from(int_edges)\n",
    "        self.DG = G\n",
    "        \n",
    "        self.node_map = {k:[node_to_int[n] for n in ns] for k,ns in self.node_map.items()}\n",
    "    \n",
    "    def plot_graph(self, fig_height=10):\n",
    "        ox.plot_graph(self.G, fig_height=fig_height)\n",
    "        \n",
    "    def plot_map(self, fig_height=10):\n",
    "        \"\"\"\n",
    "        Helper function to the initial \n",
    "        \"\"\"\n",
    "        ox.plot_graph(self.init_graph, fig_height=fig_height)"
   ]
  },
  {
   "cell_type": "code",
   "execution_count": 79,
   "metadata": {},
   "outputs": [],
   "source": [
    "class Graph:\n",
    "    \"\"\"\n",
    "    A wrapper for nxgraphs that we should probably have\n",
    "    \n",
    "    Allows conversions between MultiDiGraphs (visualization) and\n",
    "    DiGraphs (A*)all_angles\n",
    "    \"\"\"\n",
    "    def __init__(self):\n",
    "        pass\n",
    "        \n",
    "    @staticmethod\n",
    "    def from_bound(bound):\n",
    "        G = Graph()\n",
    "        graph_builder = GraphBuilder(bound)\n",
    "        G.DiGraph = graph_builder.DG\n",
    "        G.init_graph = graph_builder.init_graph\n",
    "        G.node_map = graph_builder.node_map\n",
    "        return G\n",
    "    \n",
    "    @staticmethod\n",
    "    def from_file(filepath):\n",
    "        \"\"\"\n",
    "        Unpickle a graph object\n",
    "        \n",
    "        :param filepath: filepath to the object\n",
    "        :type filepath: string\n",
    "        :rtype: Graph\n",
    "        \"\"\"\n",
    "        with open(filepath, 'rb') as f:\n",
    "            return pickle.load(f)\n",
    "        \n",
    "    def save(self, filepath):\n",
    "        \"\"\"\n",
    "        Pickle graph object to a file\n",
    "        \n",
    "        :param filepath: filepath to save the object\n",
    "        :type filepath: string\n",
    "        :rtype: Graph\n",
    "        \"\"\"\n",
    "        with open(filepath, 'wb') as f:\n",
    "            pickle.dump(self, f)\n",
    "            \n",
    "    def create_mdg(self):\n",
    "        G = nx.MultiDiGraph()\n",
    "        G.graph = {'name': 'Test Graph','crs': {'init': 'epsg:4326'},'simplified': True}\n",
    "        G.add_nodes_from(self.DiGraph.nodes(data=True))\n",
    "        G.add_edges_from([(n1,n2,0,data) for n1,n2,data in self.DiGraph.edges(data=True)])\n",
    "        return G\n",
    "            \n",
    "    def plot_graph(self, fig_height=10):\n",
    "        MDG = self.create_mdg()\n",
    "        ox.plot_graph(MDG, fig_height=fig_height)"
   ]
  },
  {
   "cell_type": "code",
   "execution_count": 80,
   "metadata": {},
   "outputs": [],
   "source": [
    "bbox = Bbox(38.88300016, 38.878726840000006, -77.09939832, -77.10500768)"
   ]
  },
  {
   "cell_type": "code",
   "execution_count": 81,
   "metadata": {},
   "outputs": [],
   "source": [
    "G = Graph.from_bound(bbox)"
   ]
  },
  {
   "cell_type": "code",
   "execution_count": 82,
   "metadata": {},
   "outputs": [
    {
     "data": {
      "text/plain": [
       "{63339530: [138, 174],\n",
       " 2219272722: [188, 350],\n",
       " 63349011: [23, 183, 313, 361],\n",
       " 63339539: [4, 47, 113, 205, 221, 278],\n",
       " 63349014: [35, 65, 171, 201, 271, 356],\n",
       " 63339544: [80, 159, 223, 321, 322, 358],\n",
       " 63339546: [33, 68, 69, 233, 238, 243],\n",
       " 63334950: [1, 184, 284, 299],\n",
       " 63334951: [83, 157, 169, 335],\n",
       " 5600335149: [66, 203],\n",
       " 63334966: [85, 189, 251, 259, 283, 327],\n",
       " 63334972: [79, 86, 104, 129, 270, 307, 324, 353],\n",
       " 63334975: [39, 44, 103, 141, 197, 210, 345, 349],\n",
       " 5600335178: [120, 241],\n",
       " 2358731091: [28, 97],\n",
       " 5600335193: [143, 230, 248, 266, 272, 279],\n",
       " 5600335194: [10, 21, 190, 211, 277, 352],\n",
       " 2358731100: [2, 133, 153, 208, 309, 346],\n",
       " 63334498: [72, 135, 244, 267, 315, 317, 323, 342],\n",
       " 63334503: [102, 107, 262, 360],\n",
       " 5441299563: [9, 235, 306, 320, 339, 362],\n",
       " 5441299821: [53, 81, 109, 198, 239, 338],\n",
       " 5441299822: [49, 95, 118, 193, 340, 344],\n",
       " 5441299823: [22, 108, 128, 163, 291, 303, 347, 351],\n",
       " 5441299824: [168, 263],\n",
       " 2365267311: [144, 187],\n",
       " 5441299567: [51, 194],\n",
       " 5441299828: [57, 105, 112, 222, 265, 287],\n",
       " 3645371509: [12, 116, 227, 257, 275, 289],\n",
       " 5441299829: [61, 302],\n",
       " 5441299832: [285, 343],\n",
       " 5441299834: [106, 147, 176, 316],\n",
       " 5441299835: [161, 333],\n",
       " 5441299836: [326, 331],\n",
       " 5441299837: [42, 54, 73, 99, 170, 297],\n",
       " 5441299838: [29, 127, 200, 209, 234, 341],\n",
       " 5441299839: [25, 27, 185, 249, 292, 325],\n",
       " 5441299840: [30, 63],\n",
       " 5441299841: [7, 55, 96, 119, 130, 179],\n",
       " 63334530: [24, 110, 220, 319],\n",
       " 5441299843: [98, 290],\n",
       " 5441299842: [117, 165, 178, 204, 206, 214],\n",
       " 5441299845: [37, 74, 237, 254, 294, 311],\n",
       " 5441299846: [181, 328],\n",
       " 5441299848: [52, 87, 136, 156, 268, 296],\n",
       " 5441299849: [32, 48],\n",
       " 63334538: [3, 26, 89, 137, 152, 173],\n",
       " 5441299851: [16, 274, 276, 295],\n",
       " 63334543: [14, 139, 150, 160, 164, 232],\n",
       " 2921373075: [70, 84, 155, 280, 293, 354],\n",
       " 5441299605: [43, 59, 60, 71, 212, 300],\n",
       " 5441299607: [162, 286],\n",
       " 5441299609: [34, 40],\n",
       " 5441299610: [13, 273],\n",
       " 5441299611: [56, 115, 122, 126, 218, 363],\n",
       " 5441299616: [38, 154, 215, 282, 301, 359],\n",
       " 5441299617: [75, 91, 242, 247, 288, 332],\n",
       " 5441299875: [88, 330],\n",
       " 63355561: [62, 111, 158, 269],\n",
       " 1615960489: [132, 240],\n",
       " 5441299894: [101, 134],\n",
       " 5441299897: [19, 123],\n",
       " 5441299899: [31, 180, 199, 228, 318, 357],\n",
       " 5441299904: [5, 90, 100, 121, 140, 348],\n",
       " 5441299905: [11, 46, 58, 213, 258, 314],\n",
       " 5441299908: [172, 177],\n",
       " 63327688: [8, 255, 264, 304, 305, 312],\n",
       " 63327691: [20, 45, 64, 148, 219, 252, 281, 336],\n",
       " 63327693: [76, 82, 124, 125, 166, 195, 216, 229],\n",
       " 63355854: [17, 50, 92, 146, 246, 308],\n",
       " 3477762513: [0, 167, 175, 182, 225, 231, 253, 334],\n",
       " 63327955: [78, 142, 207, 337],\n",
       " 63327701: [6, 18, 67, 77, 191, 224, 298, 355],\n",
       " 63355861: [15, 151, 192, 202, 236, 260, 261, 329],\n",
       " 63341278: [41, 131, 217, 256],\n",
       " 5662408421: [93, 94, 114, 186, 196, 245, 250, 310],\n",
       " 63339517: [36, 145, 149, 226]}"
      ]
     },
     "execution_count": 82,
     "metadata": {},
     "output_type": "execute_result"
    }
   ],
   "source": [
    "G.node_map"
   ]
  },
  {
   "cell_type": "code",
   "execution_count": null,
   "metadata": {},
   "outputs": [],
   "source": [
    "node_map[list(G.init_graph.nodes)[5]]"
   ]
  },
  {
   "cell_type": "code",
   "execution_count": null,
   "metadata": {},
   "outputs": [],
   "source": [
    "filename = 'test.pkl'\n",
    "G.save(filename)\n",
    "G = Graph.from_file(filename)"
   ]
  },
  {
   "cell_type": "code",
   "execution_count": null,
   "metadata": {},
   "outputs": [],
   "source": [
    "name = Name(\"Needham, MA\")\n",
    "G = Graph.from_bound(name)"
   ]
  },
  {
   "cell_type": "code",
   "execution_count": null,
   "metadata": {},
   "outputs": [],
   "source": []
  },
  {
   "cell_type": "code",
   "execution_count": null,
   "metadata": {},
   "outputs": [],
   "source": [
    "plt.ion()"
   ]
  },
  {
   "cell_type": "code",
   "execution_count": null,
   "metadata": {},
   "outputs": [],
   "source": [
    "pickle.dump()"
   ]
  },
  {
   "cell_type": "code",
   "execution_count": null,
   "metadata": {},
   "outputs": [],
   "source": [
    "bbox = Bbox(38.88300016, 38.878726840000006, -77.09939832, -77.10500768)\n",
    "\n",
    "GB = GraphBuilder(bbox)\n",
    "\n",
    "class MapLoader:\n",
    "    def __init__(self):\n",
    "        pass\n",
    "        \n",
    "\n",
    "bbox = (38.88300016, 38.878726840000006, -77.09939832, -77.10500768)\n",
    "\n",
    "bbox_graph = ox.graph_from_bbox(*bbox)\n",
    "\n",
    "ox.plot_graph(bbox_graph, fig_height=3);\n",
    "\n"
   ]
  },
  {
   "cell_type": "code",
   "execution_count": null,
   "metadata": {},
   "outputs": [],
   "source": [
    "GB = GraphBuilder(bbox)"
   ]
  },
  {
   "cell_type": "code",
   "execution_count": null,
   "metadata": {},
   "outputs": [],
   "source": [
    "in_d = {n[0]:n[1] for n in GB.nodes if n[0][2] == 'in'}\n",
    "out_d = {n[0]:n[1] for n in GB.nodes if n[0][2] == 'out'}"
   ]
  },
  {
   "cell_type": "code",
   "execution_count": null,
   "metadata": {},
   "outputs": [],
   "source": [
    "out_nodes = [n for n in GB.nodes if n[0][2] == 'out']\n",
    "in_nodes = [list(GB.MDG[n[0]])[0] for n in out_nodes]\n",
    "in_nodes = [(n, in_d[n]) for n in in_nodes]\n",
    "out_in = list(zip(out_nodes, in_nodes))"
   ]
  },
  {
   "cell_type": "code",
   "execution_count": null,
   "metadata": {},
   "outputs": [],
   "source": [
    "outs_nodes = [list(GB.MDG[n[0]]) for n in in_nodes]"
   ]
  },
  {
   "cell_type": "code",
   "execution_count": null,
   "metadata": {},
   "outputs": [],
   "source": [
    "outs_nodes = [[(n, out_d[n]) for n in ns] for ns in outs_nodes]"
   ]
  },
  {
   "cell_type": "code",
   "execution_count": null,
   "metadata": {},
   "outputs": [],
   "source": [
    "in_outs = list(zip(in_nodes, outs_nodes))"
   ]
  },
  {
   "cell_type": "code",
   "execution_count": null,
   "metadata": {},
   "outputs": [],
   "source": [
    "def calc_angle(v1, v2):\n",
    "    \"\"\"\n",
    "    calculate the angle between two vectors\n",
    "    \n",
    "    :param v1: the nodes that construct an out->in segment edge\n",
    "    :param v2: the nodes that construct an in->out intersection edge\n",
    "    \n",
    "    TODO: sometimes angle is way too large (ex. 335), fix the wrap around issue.\n",
    "    TODO: visualize the angle to verify that the function is actually working reasonably\n",
    "    \"\"\"\n",
    "    # convert vector to numpy\n",
    "    v1 = np.array((v1[1][1]['x'] - v1[0][1]['x'], v1[1][1]['y'] - v1[0][1]['y']))\n",
    "    v2 = np.array((v2[1][1]['x'] - v2[0][1]['x'], v2[1][1]['y'] - v2[0][1]['y']))\n",
    "    \n",
    "    # normalize vectors\n",
    "    v1 = v1 / np.linalg.norm(v1)\n",
    "    v2 = v2 / np.linalg.norm(v2)\n",
    "    \n",
    "    # https://stackoverflow.com/questions/21483999/using-atan2-to-find-angle-between-two-vectors\n",
    "    angle = np.arctan2(v2[1], v2[0]) - np.arctan2(v1[1], v1[0])\n",
    "    \n",
    "    return angle * (180 / np.pi)"
   ]
  },
  {
   "cell_type": "code",
   "execution_count": null,
   "metadata": {},
   "outputs": [],
   "source": [
    "def calc_angles(v1, v2s):\n",
    "    \"\"\"\n",
    "    calculate all the angles for the all edges within the v2 intersection\n",
    "    \n",
    "    :param v1: the nodes that construct an out->in edge segment\n",
    "    :param v2: the nodes that construct all the in->out edges for an intersection\n",
    "    \"\"\"\n",
    "    \n",
    "    angles = []\n",
    "    for v2b in v2s[1]:\n",
    "        v2 = (v2s[0],v2b)\n",
    "        angles.append(calc_angle(v1, v2))\n",
    "        \n",
    "    return angles"
   ]
  },
  {
   "cell_type": "code",
   "execution_count": null,
   "metadata": {},
   "outputs": [],
   "source": [
    "def angle_turn(angle):\n",
    "    \"\"\"\n",
    "    determines what type of turn based on a single angle. Note that the angle\n",
    "    is currently between the roadway segment and the path through the intersection.\n",
    "    As a result, an angle of 45 degrees is actually a turn of 90 degrees.\n",
    "    \"\"\"\n",
    "    \n",
    "    if angle > 22.5:\n",
    "        return 'left'\n",
    "    elif angle < -22.5:\n",
    "        return 'right'\n",
    "    else:\n",
    "        return \"straight\""
   ]
  },
  {
   "cell_type": "code",
   "execution_count": null,
   "metadata": {},
   "outputs": [],
   "source": [
    "v1 = out_in[0]"
   ]
  },
  {
   "cell_type": "code",
   "execution_count": null,
   "metadata": {},
   "outputs": [],
   "source": []
  },
  {
   "cell_type": "code",
   "execution_count": null,
   "metadata": {},
   "outputs": [],
   "source": [
    "i = 3\n",
    "calc_angles(out_in[i], in_outs[i])"
   ]
  },
  {
   "cell_type": "code",
   "execution_count": null,
   "metadata": {},
   "outputs": [],
   "source": [
    "all_angles = [calc_angles(a,b) for (a,b) in zip(out_in,in_outs)]\n",
    "all_turns = [[angle_turn(angle) for angle in angles] for angles in all_angles]\n",
    "all_edges = [[(in_out[0][0], o[0], 0) for o in in_out[1]] for in_out in in_outs]"
   ]
  },
  {
   "cell_type": "code",
   "execution_count": null,
   "metadata": {},
   "outputs": [],
   "source": [
    "d = GB.MDG.edges[all_edges[1][0]]\n",
    "d['turn'] = all_turns[1][0]\n",
    "edge = [(all_edges[1][0][0], all_edges[1][0][1], all_edges[1][0][2], d)]"
   ]
  },
  {
   "cell_type": "code",
   "execution_count": null,
   "metadata": {},
   "outputs": [],
   "source": [
    "GB.MDG.add_edges_from(edge)"
   ]
  },
  {
   "cell_type": "code",
   "execution_count": null,
   "metadata": {},
   "outputs": [],
   "source": [
    "GB.MDG.edges[all_edges[1][0]]"
   ]
  },
  {
   "cell_type": "code",
   "execution_count": null,
   "metadata": {},
   "outputs": [],
   "source": [
    "set([o[2].get('turn') for o in list(GB.MDG.edges(data=True))])"
   ]
  },
  {
   "cell_type": "code",
   "execution_count": null,
   "metadata": {},
   "outputs": [],
   "source": [
    "all_angles"
   ]
  },
  {
   "cell_type": "code",
   "execution_count": null,
   "metadata": {},
   "outputs": [],
   "source": [
    "len(out_in), len(in_outs)"
   ]
  },
  {
   "cell_type": "code",
   "execution_count": null,
   "metadata": {},
   "outputs": [],
   "source": [
    "sum([len(ns) for ns in outs_nodes])"
   ]
  },
  {
   "cell_type": "code",
   "execution_count": null,
   "metadata": {},
   "outputs": [],
   "source": [
    "len(GB.MDG.nodes)"
   ]
  },
  {
   "cell_type": "code",
   "execution_count": null,
   "metadata": {},
   "outputs": [],
   "source": [
    "len(GB.MDG.edges)"
   ]
  }
 ],
 "metadata": {
  "kernelspec": {
   "display_name": "Python [conda env:gis]",
   "language": "python",
   "name": "conda-env-gis-py"
  },
  "language_info": {
   "codemirror_mode": {
    "name": "ipython",
    "version": 3
   },
   "file_extension": ".py",
   "mimetype": "text/x-python",
   "name": "python",
   "nbconvert_exporter": "python",
   "pygments_lexer": "ipython3",
   "version": "3.6.6"
  }
 },
 "nbformat": 4,
 "nbformat_minor": 2
}
