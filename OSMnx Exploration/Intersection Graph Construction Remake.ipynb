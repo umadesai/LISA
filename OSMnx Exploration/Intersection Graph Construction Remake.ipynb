{
 "cells": [
  {
   "cell_type": "code",
   "execution_count": 1,
   "metadata": {},
   "outputs": [],
   "source": [
    "import osmnx as ox"
   ]
  },
  {
   "cell_type": "code",
   "execution_count": 2,
   "metadata": {},
   "outputs": [],
   "source": [
    "import numpy as np"
   ]
  },
  {
   "cell_type": "code",
   "execution_count": 3,
   "metadata": {},
   "outputs": [],
   "source": [
    "from collections import defaultdict"
   ]
  },
  {
   "cell_type": "code",
   "execution_count": 4,
   "metadata": {},
   "outputs": [],
   "source": [
    "import networkx as nx"
   ]
  },
  {
   "cell_type": "code",
   "execution_count": 5,
   "metadata": {},
   "outputs": [],
   "source": [
    "from shapely.geometry import Polygon, MultiPolygon"
   ]
  },
  {
   "cell_type": "code",
   "execution_count": 6,
   "metadata": {},
   "outputs": [],
   "source": [
    "class Name:\n",
    "    def __init__(self, name: str):\n",
    "        self.name = name\n",
    "        \n",
    "        self.gdf = ox.gdf_from_place(name)\n",
    "        self.official_name = self.gdf.place_name.values[0]\n",
    "        self.geometry = self.gdf.geometry[0]\n",
    "        if not type(self.geometry) is Polygon or type(self.geometry) is MultiPolygon:\n",
    "            raise TypeError(\"Location geometry was not a Polygon or a MultiPolygon\")\n",
    "        \n",
    "    def summary(self):\n",
    "        print(f\"Input Name: {self.name}\")\n",
    "        print(f\"Official Name: {self.official_name}\")\n",
    "        print(type(self.geometry))"
   ]
  },
  {
   "cell_type": "code",
   "execution_count": 7,
   "metadata": {},
   "outputs": [],
   "source": [
    "class Bbox:\n",
    "    def __init__(self, north, south, east, west):\n",
    "        self.bbox = (north, south, east, west)\n",
    "        \n",
    "    def __iter__(self):\n",
    "        return (b for b in self.bbox)\n",
    "    \n",
    "    def summary(self):\n",
    "        width = self.bbox[0] - self.bbox[1]\n",
    "        height = self.bbox[2] - self.bbox[3]\n",
    "        area = width * height\n",
    "        print(f\"Width: {width}\")\n",
    "        print(f\"Height: {height}\")\n",
    "        print(f\"Area: {area}\")"
   ]
  },
  {
   "cell_type": "code",
   "execution_count": 8,
   "metadata": {},
   "outputs": [],
   "source": [
    "class NodesGeometry:\n",
    "    def __init__(self, G, segments):\n",
    "        self.segments = segments\n",
    "        nodes_xy = self.create_nodes_xy(G, segments)\n",
    "        self.nodes = self.create_nodes(nodes_xy)\n",
    "    \n",
    "    def create_nodes_xy(self, G, segments):\n",
    "        nodes_xy = {}\n",
    "        for node in nodes:\n",
    "            xy = G.nodes()[node[0]]\n",
    "            x = xy['x']\n",
    "            y = xy['y']\n",
    "            nodes_xy[node] = np.array((x,y))\n",
    "    \n",
    "        dist = .00001 #change to 10 feet once you figure out units\n",
    "        for segment in segments:\n",
    "            if segment[2]['has_comp']:\n",
    "                unit_vec = self.segment_unit_vec(segment)\n",
    "                perp_vec = np.array([unit_vec[1],unit_vec[0]*-1])\n",
    "                nodes_xy[segment[0]] = nodes_xy[segment[0]] + ((unit_vec * dist) + (perp_vec * dist / 2))\n",
    "                nodes_xy[segment[1]] = nodes_xy[segment[1]] - ((unit_vec * dist) - (perp_vec * dist / 2))\n",
    "            else:\n",
    "                nodes_xy[segment[0]] = nodes_xy[segment[0]] + (unit_vec * dist)\n",
    "                nodes_xy[segment[1]] = nodes_xy[segment[1]] - (unit_vec * dist)\n",
    "    \n",
    "        return nodes_xy\n",
    "                \n",
    "    def xy_vec(n1, n2):\n",
    "        \"\"\"\n",
    "        Calculates the vector that takes you from n1 to n2\n",
    "        \"\"\"\n",
    "        xy1 = nodes_xy[n1]\n",
    "        xy2 = nodes_xy[n2]\n",
    "\n",
    "        dx = xy2['x'] - xy1['x']\n",
    "        dy = xy2['y'] - xy1['y']\n",
    "\n",
    "        return np.array((dx, dy))\n",
    "\n",
    "    def xy_vec(self, n1, n2):\n",
    "        \"\"\"\n",
    "        Calculates the vector that takes you from n1 to n2\n",
    "        \"\"\"\n",
    "        return nodes_xy[n2] - nodes_xy[n1]\n",
    "\n",
    "    def segment_vec(self, segment):\n",
    "        return self.xy_vec(segment[0], segment[1])\n",
    "\n",
    "    def segment_unit_vec(self, segment):\n",
    "        arr = self.segment_vec(segment)\n",
    "        return arr / np.linalg.norm(arr)\n",
    "    \n",
    "    def create_nodes(self, nodes_xy):\n",
    "        nodes_graph = {}\n",
    "        for k,v in nodes_xy.items():\n",
    "            nodes_graph[k] = {'x':v[0], 'y':v[1]}\n",
    "        return [(k, v) for k, v in nodes_graph.items()]"
   ]
  },
  {
   "cell_type": "code",
   "execution_count": 22,
   "metadata": {},
   "outputs": [],
   "source": [
    "class IntersectionBuilder:\n",
    "    def __init__(self, in_out):\n",
    "        \"\"\"\n",
    "        :param in_out: in out dictionary of the init_map nodes\n",
    "        \"\"\"\n",
    "        self.intersections = self.create_intersections(in_out)\n",
    "    \n",
    "    def create_intersections(self, in_out):\n",
    "        intersections = []\n",
    "        for k, v in in_out.items():\n",
    "            # every in connects to every out - unless same node\n",
    "            for n_in in v['in']:\n",
    "                n1 = (k, n_in, 'in')\n",
    "                for n_out in v['out']:\n",
    "                    n2 = (k, n_out, 'out')\n",
    "                    if n_in != n_out:\n",
    "                        intersections.append((n1, n2, {'type':'intersection'}))\n",
    "        return intersections"
   ]
  },
  {
   "cell_type": "code",
   "execution_count": 49,
   "metadata": {},
   "outputs": [],
   "source": [
    "class SegmentBuilder:\n",
    "    def __init__(self, in_out):\n",
    "        \"\"\"\n",
    "        :param in_out: in out dictionary of the init_map nodes\n",
    "        \"\"\"\n",
    "        self.segments = self.create_segments(in_out)\n",
    "        self.nodes = self.extract_nodes(self.segments)\n",
    "        print(self.segments)\n",
    "        print(self.nodes)\n",
    "    \n",
    "    def extract_nodes(self, segments):\n",
    "        nodes = set()\n",
    "        for segment in segments:\n",
    "            nodes.add(segment[0])\n",
    "            nodes.add(segment[1])\n",
    "        return nodes\n",
    "        \n",
    "    def complement_dir(self, s: str):\n",
    "        \"\"\"\n",
    "        TODO: Switch to True and False so I don't have to write this function\n",
    "        \"\"\"\n",
    "        if s == 'in':\n",
    "            return 'out'\n",
    "        elif s == 'out':\n",
    "            return 'in'\n",
    "        else:\n",
    "            print(\"complement_dir failed\")\n",
    "            \n",
    "    def complement_segment(self, segment):\n",
    "        \"\"\"\n",
    "        Computes the complementary segment of the given segment. The\n",
    "        complementary segement represents the other direction in a two\n",
    "        way street.\n",
    "        \"\"\"\n",
    "        n0 = segment[0]\n",
    "        n1 = segment[1]\n",
    "\n",
    "        n3 = (n0[0], n0[1], self.complement_dir(n0[2]))\n",
    "        n2 = (n1[0], n1[1], self.complement_dir(n1[2]))\n",
    "\n",
    "        return (n2, n3)\n",
    "    \n",
    "    def create_segments_set(self, in_out):\n",
    "        segments_set = set()\n",
    "        for k, v in in_out.items():\n",
    "            for node in v['in']:\n",
    "                n1 = (node, k, 'out')\n",
    "                n2 = (k, node, 'in')\n",
    "                segments_set.add((n1, n2))\n",
    "        return segments_set\n",
    "    \n",
    "    def create_segments_list(self, segments):\n",
    "        segment_list = []\n",
    "        for segment in segments:\n",
    "            if (self.complement_segment(segment) in segments):\n",
    "                has_comp = True\n",
    "            else:\n",
    "                has_comp = False\n",
    "            segment_list.append((segment[0], segment[1], {'type': 'segment', 'has_comp':has_comp}))\n",
    "        return segment_list\n",
    "    \n",
    "    def create_segments(self, in_out):\n",
    "        segments_set = self.create_segments_set(in_out)\n",
    "        segments_list = self.create_segments_list(segments_set)\n",
    "        return segments_list"
   ]
  },
  {
   "cell_type": "code",
   "execution_count": 50,
   "metadata": {},
   "outputs": [],
   "source": [
    "class GraphBuilder:\n",
    "    def __init__(self, bound):\n",
    "        \"\"\"\n",
    "        bound: user desired bounds of the graph\n",
    "        :param bound: Name or Bbox\n",
    "        \"\"\"\n",
    "        self.bound = bound\n",
    "        self.init_map = self.initialize_map(self.bound)\n",
    "        self.in_out = self.create_in_out_dict(self.init_map)\n",
    "        segmentBuilder = SegmentBuilder(self.in_out)\n",
    "        self.segments = segmentBuilder.segments\n",
    "        self.nodes = segmentBuilder.nodes\n",
    "        self.intersections = IntersectionBuilder(self.in_out).intersections\n",
    "            \n",
    "    def initialize_map(self, bound):\n",
    "        init_map = None\n",
    "        if type(bound) is Name:\n",
    "            init_map = ox.graph_from_place(bound.official_name)\n",
    "        elif type(bound) is Bbox:\n",
    "            init_map = ox.graph_from_bbox(*bbox)\n",
    "        else:\n",
    "            raise RuntimeError(\"Could not create graph from specified bound\")\n",
    "        return init_map\n",
    "            \n",
    "    def plot_map(self, fig_height=10):\n",
    "        ox.plot_graph(self.init_map, fig_height=fig_height)\n",
    "                \n",
    "    def create_in_out_dict(self, G):\n",
    "        def make_dict():\n",
    "            return {'in':[],'out':[]}\n",
    "\n",
    "        in_out = defaultdict(make_dict)\n",
    "        for start, end in G.edges():\n",
    "            if start == end:\n",
    "                continue\n",
    "            in_out[end]['in'].append(start)\n",
    "            in_out[start]['out'].append(end)\n",
    "        return in_out\n",
    "            \n",
    "    def create_init_inters(self, in_out):\n",
    "        intersections = set()\n",
    "        for k, v in in_out.items():\n",
    "            # every in connects to every out - unless same node\n",
    "            for n_in in v['in']:\n",
    "                n1 = (k, n_in, 'in')\n",
    "                for n_out in v['out']:\n",
    "                    n2 = (k, n_out, 'out')\n",
    "\n",
    "                    nodes.add(n1)\n",
    "                    nodes.add(n2)\n",
    "\n",
    "                    if n_in != n_out:\n",
    "                        intersections.add((n1, n2))"
   ]
  },
  {
   "cell_type": "code",
   "execution_count": 51,
   "metadata": {},
   "outputs": [],
   "source": [
    "bbox = Bbox(38.88300016, 38.878726840000006, -77.09939832, -77.10500768)"
   ]
  },
  {
   "cell_type": "code",
   "execution_count": 52,
   "metadata": {},
   "outputs": [
    {
     "name": "stdout",
     "output_type": "stream",
     "text": [
      "[((5441299905, 3645371509, 'out'), (3645371509, 5441299905, 'in'), {'type': 'segment', 'has_comp': True}), ((63334975, 63355861, 'out'), (63355861, 63334975, 'in'), {'type': 'segment', 'has_comp': True}), ((5441299823, 5441299822, 'out'), (5441299822, 5441299823, 'in'), {'type': 'segment', 'has_comp': True}), ((5441299839, 5441299838, 'out'), (5441299838, 5441299839, 'in'), {'type': 'segment', 'has_comp': True}), ((2358731100, 63327701, 'out'), (63327701, 2358731100, 'in'), {'type': 'segment', 'has_comp': True}), ((5441299848, 5441299851, 'out'), (5441299851, 5441299848, 'in'), {'type': 'segment', 'has_comp': True}), ((63339546, 63349011, 'out'), (63349011, 63339546, 'in'), {'type': 'segment', 'has_comp': True}), ((63355861, 63349014, 'out'), (63349014, 63355861, 'in'), {'type': 'segment', 'has_comp': True}), ((5441299845, 5441299843, 'out'), (5441299843, 5441299845, 'in'), {'type': 'segment', 'has_comp': True}), ((5441299908, 5441299905, 'out'), (5441299905, 5441299908, 'in'), {'type': 'segment', 'has_comp': True}), ((63341278, 63355561, 'out'), (63355561, 63341278, 'in'), {'type': 'segment', 'has_comp': True}), ((5441299848, 5441299846, 'out'), (5441299846, 5441299848, 'in'), {'type': 'segment', 'has_comp': True}), ((63327691, 63327688, 'out'), (63327688, 63327691, 'in'), {'type': 'segment', 'has_comp': True}), ((2365267311, 5441299563, 'out'), (5441299563, 2365267311, 'in'), {'type': 'segment', 'has_comp': True}), ((5441299567, 5441299563, 'out'), (5441299563, 5441299567, 'in'), {'type': 'segment', 'has_comp': True}), ((63334503, 63334498, 'out'), (63334498, 63334503, 'in'), {'type': 'segment', 'has_comp': True}), ((5441299905, 2921373075, 'out'), (2921373075, 5441299905, 'in'), {'type': 'segment', 'has_comp': True}), ((63327688, 63339530, 'out'), (63339530, 63327688, 'in'), {'type': 'segment', 'has_comp': True}), ((63327691, 63334543, 'out'), (63334543, 63327691, 'in'), {'type': 'segment', 'has_comp': True}), ((5441299617, 5441299821, 'out'), (5441299821, 5441299617, 'in'), {'type': 'segment', 'has_comp': True}), ((63327693, 5441299828, 'out'), (5441299828, 63327693, 'in'), {'type': 'segment', 'has_comp': True}), ((63334966, 5441299617, 'out'), (5441299617, 63334966, 'in'), {'type': 'segment', 'has_comp': True}), ((2921373075, 5441299897, 'out'), (5441299897, 2921373075, 'in'), {'type': 'segment', 'has_comp': True}), ((63355854, 3477762513, 'out'), (3477762513, 63355854, 'in'), {'type': 'segment', 'has_comp': True}), ((63327701, 63327693, 'out'), (63327693, 63327701, 'in'), {'type': 'segment', 'has_comp': True}), ((63327693, 63327701, 'out'), (63327701, 63327693, 'in'), {'type': 'segment', 'has_comp': True}), ((5441299829, 5441299834, 'out'), (5441299834, 5441299829, 'in'), {'type': 'segment', 'has_comp': True}), ((5600335149, 5600335193, 'out'), (5600335193, 5600335149, 'in'), {'type': 'segment', 'has_comp': True}), ((5441299840, 5441299839, 'out'), (5441299839, 5441299840, 'in'), {'type': 'segment', 'has_comp': True}), ((5441299821, 5441299611, 'out'), (5441299611, 5441299821, 'in'), {'type': 'segment', 'has_comp': True}), ((5441299836, 5441299842, 'out'), (5441299842, 5441299836, 'in'), {'type': 'segment', 'has_comp': True}), ((3477762513, 5441299609, 'out'), (5441299609, 3477762513, 'in'), {'type': 'segment', 'has_comp': True}), ((5600335194, 5441299822, 'out'), (5441299822, 5600335194, 'in'), {'type': 'segment', 'has_comp': True}), ((63334538, 63327691, 'out'), (63327691, 63334538, 'in'), {'type': 'segment', 'has_comp': True}), ((5441299837, 5441299838, 'out'), (5441299838, 5441299837, 'in'), {'type': 'segment', 'has_comp': True}), ((63334972, 5441299617, 'out'), (5441299617, 63334972, 'in'), {'type': 'segment', 'has_comp': True}), ((5441299828, 63327691, 'out'), (63327691, 5441299828, 'in'), {'type': 'segment', 'has_comp': True}), ((63334543, 63327691, 'out'), (63327691, 63334543, 'in'), {'type': 'segment', 'has_comp': True}), ((63334951, 63334950, 'out'), (63334950, 63334951, 'in'), {'type': 'segment', 'has_comp': False}), ((63355561, 63341278, 'out'), (63341278, 63355561, 'in'), {'type': 'segment', 'has_comp': True}), ((5441299894, 63339544, 'out'), (63339544, 5441299894, 'in'), {'type': 'segment', 'has_comp': True}), ((5441299834, 5441299829, 'out'), (5441299829, 5441299834, 'in'), {'type': 'segment', 'has_comp': True}), ((3645371509, 5441299905, 'out'), (5441299905, 3645371509, 'in'), {'type': 'segment', 'has_comp': True}), ((63327693, 63334951, 'out'), (63334951, 63327693, 'in'), {'type': 'segment', 'has_comp': True}), ((5441299822, 5441299823, 'out'), (5441299823, 5441299822, 'in'), {'type': 'segment', 'has_comp': True}), ((3477762513, 5441299610, 'out'), (5441299610, 3477762513, 'in'), {'type': 'segment', 'has_comp': True}), ((5441299899, 63339517, 'out'), (63339517, 5441299899, 'in'), {'type': 'segment', 'has_comp': True}), ((63334975, 5441299848, 'out'), (5441299848, 63334975, 'in'), {'type': 'segment', 'has_comp': True}), ((5441299823, 5441299824, 'out'), (5441299824, 5441299823, 'in'), {'type': 'segment', 'has_comp': True}), ((5662408421, 2219272722, 'out'), (2219272722, 5662408421, 'in'), {'type': 'segment', 'has_comp': True}), ((63334966, 5441299616, 'out'), (5441299616, 63334966, 'in'), {'type': 'segment', 'has_comp': True}), ((5662408421, 5600335178, 'out'), (5600335178, 5662408421, 'in'), {'type': 'segment', 'has_comp': True}), ((63334975, 63334972, 'out'), (63334972, 63334975, 'in'), {'type': 'segment', 'has_comp': True}), ((63349014, 63334972, 'out'), (63334972, 63349014, 'in'), {'type': 'segment', 'has_comp': True}), ((63334530, 63334538, 'out'), (63334538, 63334530, 'in'), {'type': 'segment', 'has_comp': True}), ((2921373075, 5441299905, 'out'), (5441299905, 2921373075, 'in'), {'type': 'segment', 'has_comp': True}), ((63327701, 63355854, 'out'), (63355854, 63327701, 'in'), {'type': 'segment', 'has_comp': True}), ((63327701, 63355561, 'out'), (63355561, 63327701, 'in'), {'type': 'segment', 'has_comp': True}), ((63334503, 63334975, 'out'), (63334975, 63334503, 'in'), {'type': 'segment', 'has_comp': True}), ((63339530, 63327688, 'out'), (63327688, 63339530, 'in'), {'type': 'segment', 'has_comp': True}), ((63349011, 63339546, 'out'), (63339546, 63349011, 'in'), {'type': 'segment', 'has_comp': True}), ((5441299821, 63349014, 'out'), (63349014, 5441299821, 'in'), {'type': 'segment', 'has_comp': True}), ((63339546, 63339544, 'out'), (63339544, 63339546, 'in'), {'type': 'segment', 'has_comp': True}), ((63334950, 63334530, 'out'), (63334530, 63334950, 'in'), {'type': 'segment', 'has_comp': False}), ((63334972, 63349014, 'out'), (63349014, 63334972, 'in'), {'type': 'segment', 'has_comp': True}), ((63341278, 63334950, 'out'), (63334950, 63341278, 'in'), {'type': 'segment', 'has_comp': True}), ((63334498, 5600335194, 'out'), (5600335194, 63334498, 'in'), {'type': 'segment', 'has_comp': True}), ((5441299875, 63349011, 'out'), (63349011, 5441299875, 'in'), {'type': 'segment', 'has_comp': True}), ((5441299828, 63327693, 'out'), (63327693, 5441299828, 'in'), {'type': 'segment', 'has_comp': True}), ((63334543, 63339539, 'out'), (63339539, 63334543, 'in'), {'type': 'segment', 'has_comp': True}), ((5441299616, 63327693, 'out'), (63327693, 5441299616, 'in'), {'type': 'segment', 'has_comp': True}), ((5441299851, 5441299849, 'out'), (5441299849, 5441299851, 'in'), {'type': 'segment', 'has_comp': True}), ((5441299605, 5441299607, 'out'), (5441299607, 5441299605, 'in'), {'type': 'segment', 'has_comp': True}), ((5441299839, 5441299840, 'out'), (5441299840, 5441299839, 'in'), {'type': 'segment', 'has_comp': True}), ((5441299905, 5441299908, 'out'), (5441299908, 5441299905, 'in'), {'type': 'segment', 'has_comp': True}), ((63349014, 63355861, 'out'), (63355861, 63349014, 'in'), {'type': 'segment', 'has_comp': True}), ((5441299821, 5441299617, 'out'), (5441299617, 5441299821, 'in'), {'type': 'segment', 'has_comp': True}), ((5441299837, 5441299841, 'out'), (5441299841, 5441299837, 'in'), {'type': 'segment', 'has_comp': True}), ((63334538, 63334530, 'out'), (63334530, 63334538, 'in'), {'type': 'segment', 'has_comp': True}), ((63327691, 5441299828, 'out'), (5441299828, 63327691, 'in'), {'type': 'segment', 'has_comp': True}), ((63327691, 63334538, 'out'), (63334538, 63327691, 'in'), {'type': 'segment', 'has_comp': True}), ((5441299607, 5441299605, 'out'), (5441299605, 5441299607, 'in'), {'type': 'segment', 'has_comp': True}), ((63327693, 5441299616, 'out'), (5441299616, 63327693, 'in'), {'type': 'segment', 'has_comp': True}), ((63334975, 63334503, 'out'), (63334503, 63334975, 'in'), {'type': 'segment', 'has_comp': True}), ((63339539, 63334543, 'out'), (63334543, 63339539, 'in'), {'type': 'segment', 'has_comp': True}), ((5600335194, 63334498, 'out'), (63334498, 5600335194, 'in'), {'type': 'segment', 'has_comp': True}), ((63334498, 3645371509, 'out'), (3645371509, 63334498, 'in'), {'type': 'segment', 'has_comp': True}), ((5600335193, 5600335149, 'out'), (5600335149, 5600335193, 'in'), {'type': 'segment', 'has_comp': True}), ((5441299605, 3477762513, 'out'), (3477762513, 5441299605, 'in'), {'type': 'segment', 'has_comp': True}), ((63334972, 63334975, 'out'), (63334975, 63334972, 'in'), {'type': 'segment', 'has_comp': True}), ((5441299904, 5441299899, 'out'), (5441299899, 5441299904, 'in'), {'type': 'segment', 'has_comp': True}), ((5441299563, 2358731100, 'out'), (2358731100, 5441299563, 'in'), {'type': 'segment', 'has_comp': True}), ((5441299904, 2921373075, 'out'), (2921373075, 5441299904, 'in'), {'type': 'segment', 'has_comp': True}), ((5441299611, 5441299616, 'out'), (5441299616, 5441299611, 'in'), {'type': 'segment', 'has_comp': True}), ((5441299899, 63339546, 'out'), (63339546, 5441299899, 'in'), {'type': 'segment', 'has_comp': True}), ((63327955, 5441299838, 'out'), (5441299838, 63327955, 'in'), {'type': 'segment', 'has_comp': True}), ((5600335193, 63339544, 'out'), (63339544, 5600335193, 'in'), {'type': 'segment', 'has_comp': True}), ((5441299841, 5441299837, 'out'), (5441299837, 5441299841, 'in'), {'type': 'segment', 'has_comp': True}), ((5441299904, 63339517, 'out'), (63339517, 5441299904, 'in'), {'type': 'segment', 'has_comp': True}), ((5441299841, 5441299842, 'out'), (5441299842, 5441299841, 'in'), {'type': 'segment', 'has_comp': True}), ((5441299897, 2921373075, 'out'), (2921373075, 5441299897, 'in'), {'type': 'segment', 'has_comp': True}), ((63327955, 1615960489, 'out'), (1615960489, 63327955, 'in'), {'type': 'segment', 'has_comp': True}), ((5441299609, 3477762513, 'out'), (3477762513, 5441299609, 'in'), {'type': 'segment', 'has_comp': True}), ((5441299611, 63355854, 'out'), (63355854, 5441299611, 'in'), {'type': 'segment', 'has_comp': True}), ((2358731100, 5441299563, 'out'), (5441299563, 2358731100, 'in'), {'type': 'segment', 'has_comp': True}), ((5441299617, 63334966, 'out'), (63334966, 5441299617, 'in'), {'type': 'segment', 'has_comp': True}), ((3645371509, 5662408421, 'out'), (5662408421, 3645371509, 'in'), {'type': 'segment', 'has_comp': True}), ((5441299845, 63355861, 'out'), (63355861, 5441299845, 'in'), {'type': 'segment', 'has_comp': True}), ((5441299846, 5441299848, 'out'), (5441299848, 5441299846, 'in'), {'type': 'segment', 'has_comp': True}), ((5441299838, 5441299839, 'out'), (5441299839, 5441299838, 'in'), {'type': 'segment', 'has_comp': True}), ((63327701, 2358731100, 'out'), (2358731100, 63327701, 'in'), {'type': 'segment', 'has_comp': True}), ((63334966, 5441299823, 'out'), (5441299823, 63334966, 'in'), {'type': 'segment', 'has_comp': True}), ((5441299610, 3477762513, 'out'), (3477762513, 5441299610, 'in'), {'type': 'segment', 'has_comp': True}), ((5441299828, 5441299823, 'out'), (5441299823, 5441299828, 'in'), {'type': 'segment', 'has_comp': True}), ((5441299845, 5441299837, 'out'), (5441299837, 5441299845, 'in'), {'type': 'segment', 'has_comp': True}), ((5441299837, 5441299845, 'out'), (5441299845, 5441299837, 'in'), {'type': 'segment', 'has_comp': True}), ((5662408421, 5600335194, 'out'), (5600335194, 5662408421, 'in'), {'type': 'segment', 'has_comp': True}), ((5441299838, 63327955, 'out'), (63327955, 5441299838, 'in'), {'type': 'segment', 'has_comp': True}), ((5441299823, 63334966, 'out'), (63334966, 5441299823, 'in'), {'type': 'segment', 'has_comp': True}), ((63334543, 5441299822, 'out'), (5441299822, 63334543, 'in'), {'type': 'segment', 'has_comp': True}), ((2219272722, 5662408421, 'out'), (5662408421, 2219272722, 'in'), {'type': 'segment', 'has_comp': True}), ((63355854, 5441299611, 'out'), (5441299611, 63355854, 'in'), {'type': 'segment', 'has_comp': True}), ((5600335193, 63339539, 'out'), (63339539, 5600335193, 'in'), {'type': 'segment', 'has_comp': True}), ((63334972, 63334498, 'out'), (63334498, 63334972, 'in'), {'type': 'segment', 'has_comp': True}), ((63339544, 5441299894, 'out'), (5441299894, 63339544, 'in'), {'type': 'segment', 'has_comp': True}), ((3645371509, 63334498, 'out'), (63334498, 3645371509, 'in'), {'type': 'segment', 'has_comp': True}), ((5441299822, 5600335194, 'out'), (5600335194, 5441299822, 'in'), {'type': 'segment', 'has_comp': True}), ((63334950, 63341278, 'out'), (63341278, 63334950, 'in'), {'type': 'segment', 'has_comp': True}), ((63334538, 63334951, 'out'), (63334951, 63334538, 'in'), {'type': 'segment', 'has_comp': True}), ((2358731091, 2358731100, 'out'), (2358731100, 2358731091, 'in'), {'type': 'segment', 'has_comp': False}), ((5441299834, 63355861, 'out'), (63355861, 5441299834, 'in'), {'type': 'segment', 'has_comp': True}), ((5441299563, 2365267311, 'out'), (2365267311, 5441299563, 'in'), {'type': 'segment', 'has_comp': True}), ((5441299563, 5441299567, 'out'), (5441299567, 5441299563, 'in'), {'type': 'segment', 'has_comp': True}), ((63339517, 5441299899, 'out'), (5441299899, 63339517, 'in'), {'type': 'segment', 'has_comp': True}), ((63334498, 63334972, 'out'), (63334972, 63334498, 'in'), {'type': 'segment', 'has_comp': True}), ((5441299839, 5441299841, 'out'), (5441299841, 5441299839, 'in'), {'type': 'segment', 'has_comp': True}), ((1615960489, 63327955, 'out'), (63327955, 1615960489, 'in'), {'type': 'segment', 'has_comp': True}), ((5441299616, 5441299611, 'out'), (5441299611, 5441299616, 'in'), {'type': 'segment', 'has_comp': True}), ((5441299841, 5441299839, 'out'), (5441299839, 5441299841, 'in'), {'type': 'segment', 'has_comp': True}), ((5441299605, 2358731091, 'out'), (2358731091, 5441299605, 'in'), {'type': 'segment', 'has_comp': True}), ((63355854, 63327701, 'out'), (63327701, 63355854, 'in'), {'type': 'segment', 'has_comp': True}), ((5441299824, 5441299823, 'out'), (5441299823, 5441299824, 'in'), {'type': 'segment', 'has_comp': True}), ((5441299899, 5441299904, 'out'), (5441299904, 5441299899, 'in'), {'type': 'segment', 'has_comp': True}), ((63327688, 63327691, 'out'), (63327691, 63327688, 'in'), {'type': 'segment', 'has_comp': True}), ((5600335194, 5662408421, 'out'), (5662408421, 5600335194, 'in'), {'type': 'segment', 'has_comp': True}), ((5441299838, 5441299837, 'out'), (5441299837, 5441299838, 'in'), {'type': 'segment', 'has_comp': True}), ((5441299823, 5441299828, 'out'), (5441299828, 5441299823, 'in'), {'type': 'segment', 'has_comp': True}), ((5441299617, 63334972, 'out'), (63334972, 5441299617, 'in'), {'type': 'segment', 'has_comp': True}), ((63339546, 5441299899, 'out'), (5441299899, 63339546, 'in'), {'type': 'segment', 'has_comp': True}), ((5441299834, 5441299832, 'out'), (5441299832, 5441299834, 'in'), {'type': 'segment', 'has_comp': False}), ((5441299851, 5441299848, 'out'), (5441299848, 5441299851, 'in'), {'type': 'segment', 'has_comp': True}), ((3477762513, 5441299605, 'out'), (5441299605, 3477762513, 'in'), {'type': 'segment', 'has_comp': True}), ((63355561, 63327701, 'out'), (63327701, 63355561, 'in'), {'type': 'segment', 'has_comp': True}), ((63355861, 63334975, 'out'), (63334975, 63355861, 'in'), {'type': 'segment', 'has_comp': True}), ((5600335178, 5662408421, 'out'), (5662408421, 5600335178, 'in'), {'type': 'segment', 'has_comp': True}), ((5441299843, 5441299845, 'out'), (5441299845, 5441299843, 'in'), {'type': 'segment', 'has_comp': True}), ((5441299848, 63334975, 'out'), (63334975, 5441299848, 'in'), {'type': 'segment', 'has_comp': True}), ((5441299822, 63334543, 'out'), (63334543, 5441299822, 'in'), {'type': 'segment', 'has_comp': True}), ((63339539, 5600335193, 'out'), (5600335193, 63339539, 'in'), {'type': 'segment', 'has_comp': True}), ((5441299842, 5441299836, 'out'), (5441299836, 5441299842, 'in'), {'type': 'segment', 'has_comp': True}), ((5441299842, 5441299841, 'out'), (5441299841, 5441299842, 'in'), {'type': 'segment', 'has_comp': True}), ((63339517, 5441299904, 'out'), (5441299904, 63339517, 'in'), {'type': 'segment', 'has_comp': True}), ((63355861, 5441299834, 'out'), (5441299834, 63355861, 'in'), {'type': 'segment', 'has_comp': True}), ((5441299842, 5441299835, 'out'), (5441299835, 5441299842, 'in'), {'type': 'segment', 'has_comp': True}), ((63327688, 63339539, 'out'), (63339539, 63327688, 'in'), {'type': 'segment', 'has_comp': True}), ((2921373075, 5441299904, 'out'), (5441299904, 2921373075, 'in'), {'type': 'segment', 'has_comp': True}), ((5441299611, 5441299821, 'out'), (5441299821, 5441299611, 'in'), {'type': 'segment', 'has_comp': True}), ((63334951, 63327693, 'out'), (63327693, 63334951, 'in'), {'type': 'segment', 'has_comp': True}), ((5441299849, 5441299851, 'out'), (5441299851, 5441299849, 'in'), {'type': 'segment', 'has_comp': True}), ((63334951, 63334538, 'out'), (63334538, 63334951, 'in'), {'type': 'segment', 'has_comp': True}), ((63334498, 63334503, 'out'), (63334503, 63334498, 'in'), {'type': 'segment', 'has_comp': True}), ((3477762513, 63355854, 'out'), (63355854, 3477762513, 'in'), {'type': 'segment', 'has_comp': True}), ((63349011, 5441299875, 'out'), (5441299875, 63349011, 'in'), {'type': 'segment', 'has_comp': True}), ((63339544, 5600335193, 'out'), (5600335193, 63339544, 'in'), {'type': 'segment', 'has_comp': True}), ((5662408421, 3645371509, 'out'), (3645371509, 5662408421, 'in'), {'type': 'segment', 'has_comp': True}), ((63355861, 5441299845, 'out'), (5441299845, 63355861, 'in'), {'type': 'segment', 'has_comp': True}), ((63339544, 63339546, 'out'), (63339546, 63339544, 'in'), {'type': 'segment', 'has_comp': True}), ((63349014, 5441299821, 'out'), (5441299821, 63349014, 'in'), {'type': 'segment', 'has_comp': True}), ((5441299616, 63334966, 'out'), (63334966, 5441299616, 'in'), {'type': 'segment', 'has_comp': True}), ((5441299835, 5441299842, 'out'), (5441299842, 5441299835, 'in'), {'type': 'segment', 'has_comp': True}), ((63339539, 63327688, 'out'), (63327688, 63339539, 'in'), {'type': 'segment', 'has_comp': True}), ((2358731091, 5441299605, 'out'), (5441299605, 2358731091, 'in'), {'type': 'segment', 'has_comp': True})]\n",
      "{(5441299605, 2358731091, 'in'), (63349011, 5441299875, 'in'), (5441299842, 5441299836, 'out'), (5441299821, 5441299611, 'out'), (5441299611, 5441299616, 'in'), (63339546, 63349011, 'in'), (5441299821, 63349014, 'in'), (63334538, 63327691, 'out'), (5441299828, 63327691, 'out'), (63334498, 63334972, 'in'), (5441299894, 63339544, 'in'), (63327701, 63355854, 'out'), (5441299843, 5441299845, 'out'), (2219272722, 5662408421, 'out'), (63334503, 63334498, 'out'), (63334543, 5441299822, 'in'), (5441299617, 5441299821, 'in'), (5441299821, 5441299617, 'out'), (2358731091, 5441299605, 'out'), (5441299563, 2358731100, 'out'), (5441299832, 5441299834, 'in'), (63334972, 5441299617, 'out'), (2358731100, 5441299563, 'out'), (5441299824, 5441299823, 'in'), (5441299605, 3477762513, 'out'), (5441299828, 63327693, 'in'), (5600335178, 5662408421, 'out'), (5441299904, 2921373075, 'out'), (63334498, 5600335194, 'in'), (5441299839, 5441299840, 'out'), (2921373075, 5441299897, 'in'), (63334972, 63334975, 'in'), (5441299838, 63327955, 'out'), (5441299616, 5441299611, 'out'), (5441299616, 63334966, 'out'), (63341278, 63355561, 'out'), (63339544, 63339546, 'in'), (5441299851, 5441299849, 'in'), (5441299835, 5441299842, 'in'), (63339544, 5441299894, 'out'), (63334543, 63339539, 'in'), (3645371509, 5662408421, 'out'), (63334498, 63334503, 'out'), (5441299605, 2358731091, 'out'), (63355854, 5441299611, 'in'), (3477762513, 5441299609, 'in'), (63334951, 63334538, 'in'), (5600335193, 5600335149, 'in'), (5441299841, 5441299837, 'in'), (63349011, 5441299875, 'out'), (5441299822, 5600335194, 'out'), (63327955, 5441299838, 'out'), (5441299849, 5441299851, 'out'), (5441299617, 63334972, 'in'), (3477762513, 5441299605, 'in'), (3477762513, 5441299610, 'out'), (5441299616, 63327693, 'out'), (5441299837, 5441299838, 'in'), (63327701, 63355854, 'in'), (5441299605, 5441299607, 'out'), (5600335194, 5662408421, 'in'), (63327688, 63339539, 'in'), (5441299822, 5441299823, 'out'), (5441299848, 63334975, 'in'), (5441299846, 5441299848, 'out'), (63334543, 63327691, 'in'), (5600335193, 63339539, 'out'), (5441299617, 5441299821, 'out'), (63334966, 5441299616, 'out'), (63355861, 63334975, 'in'), (63334975, 63355861, 'in'), (63334972, 5441299617, 'in'), (63327693, 5441299828, 'out'), (63355854, 63327701, 'in'), (63355861, 5441299845, 'out'), (2921373075, 5441299897, 'out'), (5441299839, 5441299840, 'in'), (63334975, 5441299848, 'in'), (63349014, 5441299821, 'out'), (5441299834, 5441299829, 'in'), (63339544, 5600335193, 'out'), (63339546, 5441299899, 'out'), (5441299904, 2921373075, 'in'), (2921373075, 5441299904, 'out'), (63334530, 63334950, 'in'), (63334951, 63327693, 'out'), (63327688, 63327691, 'out'), (5441299897, 2921373075, 'in'), (5441299616, 5441299611, 'in'), (63334972, 63349014, 'in'), (5441299839, 5441299841, 'in'), (63339530, 63327688, 'in'), (5441299875, 63349011, 'in'), (5600335193, 5600335149, 'out'), (63327691, 63334543, 'out'), (5441299616, 63327693, 'in'), (5441299904, 63339517, 'out'), (63334966, 5441299617, 'out'), (5441299838, 5441299837, 'out'), (5441299842, 5441299841, 'out'), (63334975, 63334503, 'in'), (63327691, 5441299828, 'out'), (5441299823, 5441299824, 'out'), (5441299567, 5441299563, 'in'), (5441299848, 5441299851, 'in'), (3645371509, 5441299905, 'out'), (63327693, 63334951, 'out'), (5441299823, 5441299822, 'in'), (5441299837, 5441299845, 'out'), (63334543, 63327691, 'out'), (63334975, 63355861, 'out'), (5441299905, 5441299908, 'out'), (63355561, 63341278, 'in'), (5441299899, 63339517, 'out'), (63327701, 2358731100, 'out'), (5441299607, 5441299605, 'in'), (63355561, 63327701, 'in'), (63327691, 63334538, 'in'), (63339546, 63339544, 'in'), (2921373075, 5441299904, 'in'), (2358731091, 2358731100, 'out'), (63327688, 63339530, 'out'), (5441299897, 2921373075, 'out'), (5441299611, 63355854, 'in'), (5441299908, 5441299905, 'in'), (63327693, 5441299616, 'out'), (5441299845, 5441299843, 'in'), (63334950, 63334951, 'in'), (5441299563, 5441299567, 'out'), (5441299842, 5441299836, 'in'), (63334975, 63334972, 'out'), (63341278, 63334950, 'out'), (5441299841, 5441299839, 'out'), (5441299822, 63334543, 'out'), (63334530, 63334538, 'out'), (63334972, 63349014, 'out'), (5441299611, 5441299616, 'out'), (63339517, 5441299899, 'out'), (5441299905, 3645371509, 'in'), (5441299836, 5441299842, 'out'), (5441299609, 3477762513, 'out'), (63334972, 63334498, 'in'), (5600335194, 63334498, 'in'), (63355854, 3477762513, 'out'), (5441299875, 63349011, 'out'), (5441299821, 63349014, 'out'), (5441299904, 63339517, 'in'), (63327691, 5441299828, 'in'), (5441299821, 5441299617, 'in'), (5441299843, 5441299845, 'in'), (5441299838, 5441299837, 'in'), (63339539, 5600335193, 'in'), (5441299842, 5441299841, 'in'), (63334975, 63334503, 'out'), (3645371509, 63334498, 'in'), (63334538, 63334530, 'out'), (63334503, 63334975, 'in'), (5441299567, 5441299563, 'out'), (5600335194, 5441299822, 'in'), (5441299824, 5441299823, 'out'), (5441299605, 3477762513, 'in'), (5441299607, 5441299605, 'out'), (63327691, 63327688, 'out'), (5441299617, 63334966, 'out'), (5441299611, 5441299821, 'in'), (63334972, 63334975, 'out'), (5600335193, 63339544, 'out'), (63355561, 63327701, 'out'), (63327701, 63327693, 'out'), (63349014, 63334972, 'out'), (63339546, 63339544, 'out'), (3477762513, 63355854, 'in'), (5441299563, 2365267311, 'out'), (63334975, 63334972, 'in'), (63327693, 5441299616, 'in'), (5662408421, 5600335194, 'in'), (63334538, 63334951, 'out'), (63327701, 63355561, 'out'), (5441299905, 2921373075, 'in'), (5441299842, 5441299835, 'out'), (63355854, 5441299611, 'out'), (5441299899, 5441299904, 'in'), (5441299838, 5441299839, 'in'), (5441299617, 63334972, 'out'), (63339539, 63334543, 'out'), (5441299822, 5600335194, 'in'), (5441299849, 5441299851, 'in'), (5600335194, 63334498, 'out'), (5441299839, 5441299838, 'out'), (1615960489, 63327955, 'in'), (5441299905, 3645371509, 'out'), (5441299837, 5441299838, 'out'), (5600335194, 5662408421, 'out'), (63334972, 63334498, 'out'), (63327688, 63339539, 'out'), (63355854, 3477762513, 'in'), (5441299848, 63334975, 'out'), (5441299846, 5441299848, 'in'), (5662408421, 3645371509, 'out'), (5441299605, 5441299607, 'in'), (63339539, 5600335193, 'out'), (5441299904, 5441299899, 'in'), (63334966, 5441299616, 'in'), (5441299823, 63334966, 'out'), (5662408421, 2219272722, 'out'), (63334966, 5441299823, 'out'), (5600335193, 63339539, 'in'), (63339517, 5441299904, 'in'), (2921373075, 5441299905, 'out'), (5662408421, 5600335178, 'out'), (5600335194, 5441299822, 'out'), (63355854, 63327701, 'out'), (63334503, 63334975, 'out'), (63327691, 63327688, 'in'), (63349011, 63339546, 'out'), (63355861, 5441299845, 'in'), (5441299617, 63334966, 'in'), (5441299611, 5441299821, 'out'), (63327693, 63327701, 'in'), (5441299834, 5441299829, 'out'), (5441299840, 5441299839, 'out'), (63334498, 3645371509, 'out'), (63334975, 5441299848, 'out'), (5600335193, 63339544, 'in'), (5441299899, 63339546, 'out'), (63334951, 63327693, 'in'), (63334538, 63334951, 'in'), (5441299905, 2921373075, 'out'), (63349014, 63355861, 'out'), (5441299845, 5441299837, 'out'), (5441299823, 5441299828, 'out'), (5441299842, 5441299835, 'in'), (63327691, 63334543, 'in'), (63339539, 63327688, 'out'), (1615960489, 63327955, 'out'), (5441299839, 5441299838, 'in'), (63334538, 63327691, 'in'), (5441299848, 5441299851, 'out'), (63355861, 63349014, 'out'), (5441299828, 63327691, 'in'), (3645371509, 5441299905, 'in'), (5441299894, 63339544, 'out'), (63334498, 63334972, 'out'), (5441299823, 5441299822, 'out'), (5441299837, 5441299845, 'in'), (63334966, 5441299823, 'in'), (5662408421, 2219272722, 'in'), (2219272722, 5662408421, 'in'), (63334950, 63341278, 'in'), (2365267311, 5441299563, 'in'), (63334503, 63334498, 'in'), (63327693, 63334951, 'in'), (5662408421, 5600335178, 'in'), (5441299823, 63334966, 'in'), (2358731100, 63327701, 'out'), (5441299563, 2358731100, 'in'), (63327691, 63334538, 'out'), (63355561, 63341278, 'out'), (63334950, 63334530, 'out'), (5441299899, 63339517, 'in'), (5600335149, 5600335193, 'in'), (63349011, 63339546, 'in'), (2358731100, 2358731091, 'in'), (63334498, 5600335194, 'out'), (63327688, 63339530, 'in'), (2358731100, 5441299563, 'in'), (63327693, 63327701, 'out'), (5441299611, 63355854, 'out'), (5600335178, 5662408421, 'in'), (5441299838, 63327955, 'in'), (5441299840, 5441299839, 'in'), (63334498, 3645371509, 'in'), (5441299851, 5441299849, 'out'), (5441299563, 5441299567, 'in'), (5441299908, 5441299905, 'out'), (5441299899, 63339546, 'in'), (63341278, 63355561, 'in'), (63339544, 63339546, 'out'), (63334498, 63334503, 'in'), (5441299841, 5441299842, 'out'), (5441299823, 5441299828, 'in'), (63341278, 63334950, 'in'), (5441299841, 5441299839, 'in'), (63334543, 63339539, 'out'), (5441299836, 5441299842, 'in'), (63334530, 63334538, 'in'), (63339539, 63327688, 'in'), (5441299609, 3477762513, 'in'), (63349014, 63355861, 'in'), (5441299848, 5441299846, 'in'), (3477762513, 5441299609, 'out'), (5441299610, 3477762513, 'out'), (63339517, 5441299899, 'in'), (3477762513, 5441299610, 'in'), (5441299841, 5441299837, 'out'), (63327955, 5441299838, 'in'), (3477762513, 5441299605, 'out'), (5441299822, 5441299823, 'in'), (63355861, 63349014, 'in'), (63334950, 63341278, 'out'), (63355861, 5441299834, 'out'), (3645371509, 63334498, 'out'), (63355861, 63334975, 'out'), (63334538, 63334530, 'in'), (2358731100, 63327701, 'in'), (2365267311, 5441299563, 'out'), (5441299834, 63355861, 'out'), (5441299851, 5441299848, 'out'), (63327701, 63327693, 'in'), (63349014, 63334972, 'in'), (5600335149, 5600335193, 'out'), (63327693, 5441299828, 'in'), (63339544, 5600335193, 'in'), (5441299845, 63355861, 'in'), (63339546, 5441299899, 'in'), (5441299828, 5441299823, 'out'), (5441299829, 5441299834, 'out'), (5441299837, 5441299841, 'in'), (5441299563, 2365267311, 'in'), (63349014, 5441299821, 'in'), (3477762513, 63355854, 'out'), (63327701, 63355561, 'in'), (63327688, 63327691, 'in'), (5441299841, 5441299842, 'in'), (63327955, 1615960489, 'in'), (5441299839, 5441299841, 'out'), (5662408421, 5600335194, 'out'), (63339539, 63334543, 'in'), (5441299821, 5441299611, 'in'), (5441299899, 5441299904, 'out'), (5441299838, 5441299839, 'out'), (63339546, 63349011, 'out'), (5441299848, 5441299846, 'out'), (5441299610, 3477762513, 'in'), (63339530, 63327688, 'out'), (5662408421, 3645371509, 'in'), (63334543, 5441299822, 'out'), (5441299904, 5441299899, 'out'), (5441299823, 5441299824, 'in'), (63334966, 5441299617, 'in'), (63355861, 5441299834, 'in'), (63339517, 5441299904, 'out'), (63334951, 63334950, 'out'), (2358731091, 5441299605, 'in'), (2921373075, 5441299905, 'in'), (5441299834, 5441299832, 'out'), (5441299851, 5441299848, 'in'), (5441299905, 5441299908, 'in'), (5441299834, 63355861, 'in'), (63327701, 2358731100, 'in'), (5441299828, 63327693, 'out'), (5441299616, 63334966, 'in'), (5441299829, 5441299834, 'in'), (5441299835, 5441299842, 'out'), (63339544, 5441299894, 'in'), (5441299845, 63355861, 'out'), (5441299845, 5441299843, 'out'), (5441299828, 5441299823, 'in'), (3645371509, 5662408421, 'in'), (5441299837, 5441299841, 'out'), (5441299845, 5441299837, 'in'), (63327955, 1615960489, 'out'), (5441299822, 63334543, 'in'), (63334951, 63334538, 'out')}\n"
     ]
    }
   ],
   "source": [
    "GB = GraphBuilder(bbox)"
   ]
  },
  {
   "cell_type": "code",
   "execution_count": null,
   "metadata": {},
   "outputs": [],
   "source": [
    "class MapLoader:\n",
    "    def __init__(self):\n",
    "        "
   ]
  },
  {
   "cell_type": "code",
   "execution_count": null,
   "metadata": {},
   "outputs": [],
   "source": [
    "bbox = (38.88300016, 38.878726840000006, -77.09939832, -77.10500768)"
   ]
  },
  {
   "cell_type": "code",
   "execution_count": null,
   "metadata": {},
   "outputs": [],
   "source": [
    "bbox_graph = ox.graph_from_bbox(*bbox)"
   ]
  },
  {
   "cell_type": "code",
   "execution_count": null,
   "metadata": {},
   "outputs": [],
   "source": [
    "ox.plot_graph(bbox_graph, fig_height=3);"
   ]
  },
  {
   "cell_type": "code",
   "execution_count": null,
   "metadata": {},
   "outputs": [],
   "source": []
  },
  {
   "cell_type": "code",
   "execution_count": null,
   "metadata": {},
   "outputs": [],
   "source": [
    "name = Name(\"Needham, MA\")"
   ]
  }
 ],
 "metadata": {
  "kernelspec": {
   "display_name": "Python [conda env:gis]",
   "language": "python",
   "name": "conda-env-gis-py"
  },
  "language_info": {
   "codemirror_mode": {
    "name": "ipython",
    "version": 3
   },
   "file_extension": ".py",
   "mimetype": "text/x-python",
   "name": "python",
   "nbconvert_exporter": "python",
   "pygments_lexer": "ipython3",
   "version": "3.6.6"
  }
 },
 "nbformat": 4,
 "nbformat_minor": 2
}
